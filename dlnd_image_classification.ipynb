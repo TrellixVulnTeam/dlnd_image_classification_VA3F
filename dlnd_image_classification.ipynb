{
 "cells": [
  {
   "cell_type": "markdown",
   "metadata": {
    "collapsed": true
   },
   "source": [
    "# Image Classification\n",
    "In this project, you'll classify images from the [CIFAR-10 dataset](https://www.cs.toronto.edu/~kriz/cifar.html).  The dataset consists of airplanes, dogs, cats, and other objects. You'll preprocess the images, then train a convolutional neural network on all the samples. The images need to be normalized and the labels need to be one-hot encoded.  You'll get to apply what you learned and build a convolutional, max pooling, dropout, and fully connected layers.  At the end, you'll get to see your neural network's predictions on the sample images.\n",
    "## Get the Data\n",
    "Run the following cell to download the [CIFAR-10 dataset for python](https://www.cs.toronto.edu/~kriz/cifar-10-python.tar.gz)."
   ]
  },
  {
   "cell_type": "code",
   "execution_count": 1,
   "metadata": {},
   "outputs": [
    {
     "name": "stderr",
     "output_type": "stream",
     "text": [
      "CIFAR-10 Dataset: 171MB [00:17, 9.64MB/s]                              \n"
     ]
    },
    {
     "name": "stdout",
     "output_type": "stream",
     "text": [
      "All files found!\n"
     ]
    }
   ],
   "source": [
    "\"\"\"\n",
    "DON'T MODIFY ANYTHING IN THIS CELL THAT IS BELOW THIS LINE\n",
    "\"\"\"\n",
    "from urllib.request import urlretrieve\n",
    "from os.path import isfile, isdir\n",
    "from tqdm import tqdm\n",
    "import problem_unittests as tests\n",
    "import tarfile\n",
    "\n",
    "cifar10_dataset_folder_path = 'cifar-10-batches-py'\n",
    "\n",
    "# Use Floyd's cifar-10 dataset if present\n",
    "floyd_cifar10_location = '/cifar/cifar-10-python.tar.gz'\n",
    "if isfile(floyd_cifar10_location):\n",
    "    tar_gz_path = floyd_cifar10_location\n",
    "else:\n",
    "    tar_gz_path = 'cifar-10-python.tar.gz'\n",
    "\n",
    "class DLProgress(tqdm):\n",
    "    last_block = 0\n",
    "\n",
    "    def hook(self, block_num=1, block_size=1, total_size=None):\n",
    "        self.total = total_size\n",
    "        self.update((block_num - self.last_block) * block_size)\n",
    "        self.last_block = block_num\n",
    "\n",
    "if not isfile(tar_gz_path):\n",
    "    with DLProgress(unit='B', unit_scale=True, miniters=1, desc='CIFAR-10 Dataset') as pbar:\n",
    "        urlretrieve(\n",
    "            'https://www.cs.toronto.edu/~kriz/cifar-10-python.tar.gz',\n",
    "            tar_gz_path,\n",
    "            pbar.hook)\n",
    "\n",
    "if not isdir(cifar10_dataset_folder_path):\n",
    "    with tarfile.open(tar_gz_path) as tar:\n",
    "        tar.extractall()\n",
    "        tar.close()\n",
    "\n",
    "\n",
    "tests.test_folder_path(cifar10_dataset_folder_path)"
   ]
  },
  {
   "cell_type": "markdown",
   "metadata": {},
   "source": [
    "## Explore the Data\n",
    "The dataset is broken into batches to prevent your machine from running out of memory.  The CIFAR-10 dataset consists of 5 batches, named `data_batch_1`, `data_batch_2`, etc.. Each batch contains the labels and images that are one of the following:\n",
    "* airplane\n",
    "* automobile\n",
    "* bird\n",
    "* cat\n",
    "* deer\n",
    "* dog\n",
    "* frog\n",
    "* horse\n",
    "* ship\n",
    "* truck\n",
    "\n",
    "Understanding a dataset is part of making predictions on the data.  Play around with the code cell below by changing the `batch_id` and `sample_id`. The `batch_id` is the id for a batch (1-5). The `sample_id` is the id for a image and label pair in the batch.\n",
    "\n",
    "Ask yourself \"What are all possible labels?\", \"What is the range of values for the image data?\", \"Are the labels in order or random?\".  Answers to questions like these will help you preprocess the data and end up with better predictions."
   ]
  },
  {
   "cell_type": "code",
   "execution_count": 9,
   "metadata": {},
   "outputs": [
    {
     "name": "stdout",
     "output_type": "stream",
     "text": [
      "\n",
      "Stats of batch 1:\n",
      "Samples: 10000\n",
      "Label Counts: {0: 1005, 1: 974, 2: 1032, 3: 1016, 4: 999, 5: 937, 6: 1030, 7: 1001, 8: 1025, 9: 981}\n",
      "First 20 Labels: [6, 9, 9, 4, 1, 1, 2, 7, 8, 3, 4, 7, 7, 2, 9, 9, 9, 3, 2, 6]\n",
      "\n",
      "Example of Image 5:\n",
      "Image - Min Value: 0 Max Value: 252\n",
      "Image - Shape: (32, 32, 3)\n",
      "Label - Label Id: 1 Name: automobile\n"
     ]
    },
    {
     "data": {
      "image/png": "[encoded data removed]",
      "text/plain": [
       "<matplotlib.figure.Figure at 0x7fa77ce986d8>"
      ]
     },
     "metadata": {
      "image/png": {
       "height": 250,
       "width": 253
      }
     },
     "output_type": "display_data"
    }
   ],
   "source": [
    "%matplotlib inline\n",
    "%config InlineBackend.figure_format = 'retina'\n",
    "\n",
    "import helper\n",
    "import numpy as np\n",
    "\n",
    "# Explore the dataset\n",
    "batch_id = 1\n",
    "sample_id = 5\n",
    "helper.display_stats(cifar10_dataset_folder_path, batch_id, sample_id)"
   ]
  },
  {
   "cell_type": "markdown",
   "metadata": {},
   "source": [
    "## Implement Preprocess Functions\n",
    "### Normalize\n",
    "In the cell below, implement the `normalize` function to take in image data, `x`, and return it as a normalized Numpy array. The values should be in the range of 0 to 1, inclusive.  The return object should be the same shape as `x`."
   ]
  },
  {
   "cell_type": "code",
   "execution_count": 10,
   "metadata": {},
   "outputs": [
    {
     "name": "stdout",
     "output_type": "stream",
     "text": [
      "Tests Passed\n"
     ]
    }
   ],
   "source": [
    "def normalize(x):\n",
    "    \"\"\"\n",
    "    Normalize a list of sample image data in the range of 0 to 1\n",
    "    : x: List of image data.  The image shape is (32, 32, 3)\n",
    "    : return: Numpy array of normalize data\n",
    "    \"\"\"\n",
    "    # TODO: Implement Function\n",
    "    return (x-np.min(x))/(np.max(x)-np.min(x))\n",
    "\n",
    "\n",
    "\"\"\"\n",
    "DON'T MODIFY ANYTHING IN THIS CELL THAT IS BELOW THIS LINE\n",
    "\"\"\"\n",
    "tests.test_normalize(normalize)"
   ]
  },
  {
   "cell_type": "markdown",
   "metadata": {},
   "source": [
    "### One-hot encode\n",
    "Just like the previous code cell, you'll be implementing a function for preprocessing.  This time, you'll implement the `one_hot_encode` function. The input, `x`, are a list of labels.  Implement the function to return the list of labels as One-Hot encoded Numpy array.  The possible values for labels are 0 to 9. The one-hot encoding function should return the same encoding for each value between each call to `one_hot_encode`.  Make sure to save the map of encodings outside the function.\n",
    "\n",
    "Hint: Don't reinvent the wheel."
   ]
  },
  {
   "cell_type": "code",
   "execution_count": 11,
   "metadata": {},
   "outputs": [
    {
     "name": "stdout",
     "output_type": "stream",
     "text": [
      "Tests Passed\n"
     ]
    }
   ],
   "source": [
    "def one_hot_encode(x):\n",
    "    \"\"\"\n",
    "    One hot encode a list of sample labels. Return a one-hot encoded vector for each label.\n",
    "    : x: List of sample Labels\n",
    "    : return: Numpy array of one-hot encoded labels\n",
    "    \"\"\"\n",
    "    # TODO: Implement Function\n",
    "    x_len = len(x)\n",
    "    rst = np.zeros((x_len,10))\n",
    "    for i in range(x_len):\n",
    "        rst[i][x[i]] = 1\n",
    "    return rst\n",
    "\n",
    "\n",
    "\"\"\"\n",
    "DON'T MODIFY ANYTHING IN THIS CELL THAT IS BELOW THIS LINE\n",
    "\"\"\"\n",
    "tests.test_one_hot_encode(one_hot_encode)"
   ]
  },
  {
   "cell_type": "markdown",
   "metadata": {},
   "source": [
    "### Randomize Data\n",
    "As you saw from exploring the data above, the order of the samples are randomized.  It doesn't hurt to randomize it again, but you don't need to for this dataset."
   ]
  },
  {
   "cell_type": "markdown",
   "metadata": {},
   "source": [
    "## Preprocess all the data and save it\n",
    "Running the code cell below will preprocess all the CIFAR-10 data and save it to file. The code below also uses 10% of the training data for validation."
   ]
  },
  {
   "cell_type": "code",
   "execution_count": 12,
   "metadata": {
    "collapsed": true
   },
   "outputs": [],
   "source": [
    "\"\"\"\n",
    "DON'T MODIFY ANYTHING IN THIS CELL\n",
    "\"\"\"\n",
    "# Preprocess Training, Validation, and Testing Data\n",
    "helper.preprocess_and_save_data(cifar10_dataset_folder_path, normalize, one_hot_encode)"
   ]
  },
  {
   "cell_type": "markdown",
   "metadata": {},
   "source": [
    "# Check Point\n",
    "This is your first checkpoint.  If you ever decide to come back to this notebook or have to restart the notebook, you can start from here.  The preprocessed data has been saved to disk."
   ]
  },
  {
   "cell_type": "code",
   "execution_count": 13,
   "metadata": {
    "collapsed": true
   },
   "outputs": [],
   "source": [
    "\"\"\"\n",
    "DON'T MODIFY ANYTHING IN THIS CELL\n",
    "\"\"\"\n",
    "import pickle\n",
    "import problem_unittests as tests\n",
    "import helper\n",
    "\n",
    "# Load the Preprocessed Validation data\n",
    "valid_features, valid_labels = pickle.load(open('preprocess_validation.p', mode='rb'))"
   ]
  },
  {
   "cell_type": "markdown",
   "metadata": {},
   "source": [
    "## Build the network\n",
    "For the neural network, you'll build each layer into a function.  Most of the code you've seen has been outside of functions. To test your code more thoroughly, we require that you put each layer in a function.  This allows us to give you better feedback and test for simple mistakes using our unittests before you submit your project.\n",
    "\n",
    ">**Note:** If you're finding it hard to dedicate enough time for this course each week, we've provided a small shortcut to this part of the project. In the next couple of problems, you'll have the option to use classes from the [TensorFlow Layers](https://www.tensorflow.org/api_docs/python/tf/layers) or [TensorFlow Layers (contrib)](https://www.tensorflow.org/api_guides/python/contrib.layers) packages to build each layer, except the layers you build in the \"Convolutional and Max Pooling Layer\" section.  TF Layers is similar to Keras's and TFLearn's abstraction to layers, so it's easy to pickup.\n",
    "\n",
    ">However, if you would like to get the most out of this course, try to solve all the problems _without_ using anything from the TF Layers packages. You **can** still use classes from other packages that happen to have the same name as ones you find in TF Layers! For example, instead of using the TF Layers version of the `conv2d` class, [tf.layers.conv2d](https://www.tensorflow.org/api_docs/python/tf/layers/conv2d), you would want to use the TF Neural Network version of `conv2d`, [tf.nn.conv2d](https://www.tensorflow.org/api_docs/python/tf/nn/conv2d). \n",
    "\n",
    "Let's begin!\n",
    "\n",
    "### Input\n",
    "The neural network needs to read the image data, one-hot encoded labels, and dropout keep probability. Implement the following functions\n",
    "* Implement `neural_net_image_input`\n",
    " * Return a [TF Placeholder](https://www.tensorflow.org/api_docs/python/tf/placeholder)\n",
    " * Set the shape using `image_shape` with batch size set to `None`.\n",
    " * Name the TensorFlow placeholder \"x\" using the TensorFlow `name` parameter in the [TF Placeholder](https://www.tensorflow.org/api_docs/python/tf/placeholder).\n",
    "* Implement `neural_net_label_input`\n",
    " * Return a [TF Placeholder](https://www.tensorflow.org/api_docs/python/tf/placeholder)\n",
    " * Set the shape using `n_classes` with batch size set to `None`.\n",
    " * Name the TensorFlow placeholder \"y\" using the TensorFlow `name` parameter in the [TF Placeholder](https://www.tensorflow.org/api_docs/python/tf/placeholder).\n",
    "* Implement `neural_net_keep_prob_input`\n",
    " * Return a [TF Placeholder](https://www.tensorflow.org/api_docs/python/tf/placeholder) for dropout keep probability.\n",
    " * Name the TensorFlow placeholder \"keep_prob\" using the TensorFlow `name` parameter in the [TF Placeholder](https://www.tensorflow.org/api_docs/python/tf/placeholder).\n",
    "\n",
    "These names will be used at the end of the project to load your saved model.\n",
    "\n",
    "Note: `None` for shapes in TensorFlow allow for a dynamic size."
   ]
  },
  {
   "cell_type": "code",
   "execution_count": 14,
   "metadata": {},
   "outputs": [
    {
     "name": "stdout",
     "output_type": "stream",
     "text": [
      "Image Input Tests Passed.\n",
      "Label Input Tests Passed.\n",
      "Keep Prob Tests Passed.\n"
     ]
    }
   ],
   "source": [
    "import tensorflow as tf\n",
    "\n",
    "def neural_net_image_input(image_shape):\n",
    "    \"\"\"\n",
    "    Return a Tensor for a batch of image input\n",
    "    : image_shape: Shape of the images\n",
    "    : return: Tensor for image input.\n",
    "    \"\"\"\n",
    "    # TODO: Implement Function\n",
    "    _shape = tuple([None]+list(image_shape))\n",
    "    return tf.placeholder(dtype=tf.float32, shape=_shape, name='x')\n",
    "\n",
    "\n",
    "def neural_net_label_input(n_classes):\n",
    "    \"\"\"\n",
    "    Return a Tensor for a batch of label input\n",
    "    : n_classes: Number of classes\n",
    "    : return: Tensor for label input.\n",
    "    \"\"\"\n",
    "    # TODO: Implement Function\n",
    "    _shape = (None, n_classes)\n",
    "    return tf.placeholder(dtype=tf.float32, shape=_shape, name='y')\n",
    "\n",
    "\n",
    "def neural_net_keep_prob_input():\n",
    "    \"\"\"\n",
    "    Return a Tensor for keep probability\n",
    "    : return: Tensor for keep probability.\n",
    "    \"\"\"\n",
    "    # TODO: Implement Function\n",
    "    return tf.placeholder(dtype=tf.float32, name='keep_prob')\n",
    "\n",
    "\n",
    "\"\"\"\n",
    "DON'T MODIFY ANYTHING IN THIS CELL THAT IS BELOW THIS LINE\n",
    "\"\"\"\n",
    "tf.reset_default_graph()\n",
    "tests.test_nn_image_inputs(neural_net_image_input)\n",
    "tests.test_nn_label_inputs(neural_net_label_input)\n",
    "tests.test_nn_keep_prob_inputs(neural_net_keep_prob_input)"
   ]
  },
  {
   "cell_type": "markdown",
   "metadata": {},
   "source": [
    "### Convolution and Max Pooling Layer\n",
    "Convolution layers have a lot of success with images. For this code cell, you should implement the function `conv2d_maxpool` to apply convolution then max pooling:\n",
    "* Create the weight and bias using `conv_ksize`, `conv_num_outputs` and the shape of `x_tensor`.\n",
    "* Apply a convolution to `x_tensor` using weight and `conv_strides`.\n",
    " * We recommend you use same padding, but you're welcome to use any padding.\n",
    "* Add bias\n",
    "* Add a nonlinear activation to the convolution.\n",
    "* Apply Max Pooling using `pool_ksize` and `pool_strides`.\n",
    " * We recommend you use same padding, but you're welcome to use any padding.\n",
    "\n",
    "**Note:** You **can't** use [TensorFlow Layers](https://www.tensorflow.org/api_docs/python/tf/layers) or [TensorFlow Layers (contrib)](https://www.tensorflow.org/api_guides/python/contrib.layers) for **this** layer, but you can still use TensorFlow's [Neural Network](https://www.tensorflow.org/api_docs/python/tf/nn) package. You may still use the shortcut option for all the **other** layers."
   ]
  },
  {
   "cell_type": "code",
   "execution_count": 15,
   "metadata": {},
   "outputs": [
    {
     "name": "stdout",
     "output_type": "stream",
     "text": [
      "Tests Passed\n"
     ]
    }
   ],
   "source": [
    "def conv2d_maxpool(x_tensor, conv_num_outputs, conv_ksize, conv_strides, pool_ksize, pool_strides):\n",
    "    \"\"\"\n",
    "    Apply convolution then max pooling to x_tensor\n",
    "    :param x_tensor: TensorFlow Tensor\n",
    "    :param conv_num_outputs: Number of outputs for the convolutional layer\n",
    "    :param conv_ksize: kernal size 2-D Tuple for the convolutional layer\n",
    "    :param conv_strides: Stride 2-D Tuple for convolution\n",
    "    :param pool_ksize: kernal size 2-D Tuple for pool\n",
    "    :param pool_strides: Stride 2-D Tuple for pool\n",
    "    : return: A tensor that represents convolution and max pooling of x_tensor\n",
    "    \"\"\"\n",
    "    # TODO: Implement Function\n",
    "    in_depth = x_tensor.get_shape().as_list()[-1]\n",
    "    wc = tf.Variable(tf.truncated_normal([conv_ksize[0], conv_ksize[1], in_depth, conv_num_outputs], stddev=0.05))\n",
    "    bc = tf.Variable(tf.zeros([conv_num_outputs]))\n",
    "    \n",
    "    x = tf.nn.conv2d(x_tensor, wc, strides=(1, conv_strides[0], conv_strides[1], 1), padding='SAME')\n",
    "    x = tf.nn.bias_add(x, bc)\n",
    "    x = tf.nn.relu(x)\n",
    "    x = tf.nn.max_pool(x, ksize=[1,pool_ksize[0], pool_ksize[1],1], strides = [1,pool_strides[0],pool_strides[1],1],\\\n",
    "                       padding='SAME')\n",
    "    return x\n",
    "\n",
    "\n",
    "\"\"\"\n",
    "DON'T MODIFY ANYTHING IN THIS CELL THAT IS BELOW THIS LINE\n",
    "\"\"\"\n",
    "tests.test_con_pool(conv2d_maxpool)"
   ]
  },
  {
   "cell_type": "markdown",
   "metadata": {},
   "source": [
    "### Flatten Layer\n",
    "Implement the `flatten` function to change the dimension of `x_tensor` from a 4-D tensor to a 2-D tensor.  The output should be the shape (*Batch Size*, *Flattened Image Size*). Shortcut option: you can use classes from the [TensorFlow Layers](https://www.tensorflow.org/api_docs/python/tf/layers) or [TensorFlow Layers (contrib)](https://www.tensorflow.org/api_guides/python/contrib.layers) packages for this layer. For more of a challenge, only use other TensorFlow packages."
   ]
  },
  {
   "cell_type": "code",
   "execution_count": 16,
   "metadata": {},
   "outputs": [
    {
     "name": "stdout",
     "output_type": "stream",
     "text": [
      "Tests Passed\n"
     ]
    }
   ],
   "source": [
    "def flatten(x_tensor):\n",
    "    \"\"\"\n",
    "    Flatten x_tensor to (Batch Size, Flattened Image Size)\n",
    "    : x_tensor: A tensor of size (Batch Size, ...), where ... are the image dimensions.\n",
    "    : return: A tensor of size (Batch Size, Flattened Image Size).\n",
    "    \"\"\"\n",
    "    # TODO: Implement Function\n",
    "    image_shape = x_tensor.get_shape().as_list()\n",
    "    flatten_image_size = image_shape[1]*image_shape[2]*image_shape[3]\n",
    "    x = tf.reshape(x_tensor, shape=[-1,flatten_image_size])\n",
    "    return x\n",
    "\n",
    "\n",
    "\"\"\"\n",
    "DON'T MODIFY ANYTHING IN THIS CELL THAT IS BELOW THIS LINE\n",
    "\"\"\"\n",
    "tests.test_flatten(flatten)"
   ]
  },
  {
   "cell_type": "markdown",
   "metadata": {},
   "source": [
    "### Fully-Connected Layer\n",
    "Implement the `fully_conn` function to apply a fully connected layer to `x_tensor` with the shape (*Batch Size*, *num_outputs*). Shortcut option: you can use classes from the [TensorFlow Layers](https://www.tensorflow.org/api_docs/python/tf/layers) or [TensorFlow Layers (contrib)](https://www.tensorflow.org/api_guides/python/contrib.layers) packages for this layer. For more of a challenge, only use other TensorFlow packages."
   ]
  },
  {
   "cell_type": "code",
   "execution_count": 17,
   "metadata": {},
   "outputs": [
    {
     "name": "stdout",
     "output_type": "stream",
     "text": [
      "Tests Passed\n"
     ]
    }
   ],
   "source": [
    "def fully_conn(x_tensor, num_outputs):\n",
    "    \"\"\"\n",
    "    Apply a fully connected layer to x_tensor using weight and bias\n",
    "    : x_tensor: A 2-D tensor where the first dimension is batch size.\n",
    "    : num_outputs: The number of output that the new tensor should be.\n",
    "    : return: A 2-D tensor where the second dimension is num_outputs.\n",
    "    \"\"\"\n",
    "    # TODO: Implement Function\n",
    "    x = x_tensor\n",
    "    flatten_image_size = x.get_shape().as_list()[-1]\n",
    "    wd = tf.Variable(tf.truncated_normal([flatten_image_size, num_outputs], stddev=0.05))\n",
    "    bd = tf.Variable(tf.zeros([num_outputs]))\n",
    "    x = tf.add(tf.matmul(x, wd), bd)\n",
    "    x = tf.nn.relu(x)\n",
    "    return x\n",
    "\n",
    "\n",
    "\"\"\"\n",
    "DON'T MODIFY ANYTHING IN THIS CELL THAT IS BELOW THIS LINE\n",
    "\"\"\"\n",
    "tests.test_fully_conn(fully_conn)"
   ]
  },
  {
   "cell_type": "markdown",
   "metadata": {},
   "source": [
    "### Output Layer\n",
    "Implement the `output` function to apply a fully connected layer to `x_tensor` with the shape (*Batch Size*, *num_outputs*). Shortcut option: you can use classes from the [TensorFlow Layers](https://www.tensorflow.org/api_docs/python/tf/layers) or [TensorFlow Layers (contrib)](https://www.tensorflow.org/api_guides/python/contrib.layers) packages for this layer. For more of a challenge, only use other TensorFlow packages.\n",
    "\n",
    "**Note:** Activation, softmax, or cross entropy should **not** be applied to this."
   ]
  },
  {
   "cell_type": "code",
   "execution_count": 18,
   "metadata": {},
   "outputs": [
    {
     "name": "stdout",
     "output_type": "stream",
     "text": [
      "Tests Passed\n"
     ]
    }
   ],
   "source": [
    "def output(x_tensor, num_outputs):\n",
    "    \"\"\"\n",
    "    Apply a output layer to x_tensor using weight and bias\n",
    "    : x_tensor: A 2-D tensor where the first dimension is batch size.\n",
    "    : num_outputs: The number of output that the new tensor should be.\n",
    "    : return: A 2-D tensor where the second dimension is num_outputs.\n",
    "    \"\"\"\n",
    "    # TODO: Implement Function\n",
    "    x = x_tensor\n",
    "    num_inputs = x.get_shape().as_list()[-1]\n",
    "    wo = tf.Variable(tf.truncated_normal([num_inputs, num_outputs], stddev=0.05))\n",
    "    bo = tf.Variable(tf.zeros([num_outputs]))\n",
    "    x = tf.add(tf.matmul(x, wo), bo)\n",
    "    return x\n",
    "\n",
    "\n",
    "\"\"\"\n",
    "DON'T MODIFY ANYTHING IN THIS CELL THAT IS BELOW THIS LINE\n",
    "\"\"\"\n",
    "tests.test_output(output)"
   ]
  },
  {
   "cell_type": "markdown",
   "metadata": {},
   "source": [
    "### Create Convolutional Model\n",
    "Implement the function `conv_net` to create a convolutional neural network model. The function takes in a batch of images, `x`, and outputs logits.  Use the layers you created above to create this model:\n",
    "\n",
    "* Apply 1, 2, or 3 Convolution and Max Pool layers\n",
    "* Apply a Flatten Layer\n",
    "* Apply 1, 2, or 3 Fully Connected Layers\n",
    "* Apply an Output Layer\n",
    "* Return the output\n",
    "* Apply [TensorFlow's Dropout](https://www.tensorflow.org/api_docs/python/tf/nn/dropout) to one or more layers in the model using `keep_prob`. "
   ]
  },
  {
   "cell_type": "code",
   "execution_count": 19,
   "metadata": {},
   "outputs": [
    {
     "name": "stdout",
     "output_type": "stream",
     "text": [
      "Neural Network Built!\n"
     ]
    }
   ],
   "source": [
    "def conv_net(x, keep_prob):\n",
    "    \"\"\"\n",
    "    Create a convolutional neural network model\n",
    "    : x: Placeholder tensor that holds image data.\n",
    "    : keep_prob: Placeholder tensor that hold dropout keep probability.\n",
    "    : return: Tensor that represents logits\n",
    "    \"\"\"\n",
    "    # TODO: Apply 1, 2, or 3 Convolution and Max Pool layers\n",
    "    #    Play around with different number of outputs, kernel size and stride\n",
    "    # Function Definition from Above:\n",
    "    #    conv2d_maxpool(x_tensor, conv_num_outputs, conv_ksize, conv_strides, pool_ksize, pool_strides)\n",
    "    x = conv2d_maxpool(x, 32, (8,8), (1,1), (2,2), (2,2))\n",
    "    x = conv2d_maxpool(x, 64, (4,4), (1,1), (2,2), (2,2))\n",
    "    x = conv2d_maxpool(x, 128, (2,2), (1,1), (2,2), (2,2))\n",
    "    \n",
    "    # TODO: Apply a Flatten Layer\n",
    "    # Function Definition from Above:\n",
    "    #   flatten(x_tensor)\n",
    "    x = flatten(x)\n",
    "\n",
    "    # TODO: Apply 1, 2, or 3 Fully Connected Layers\n",
    "    #    Play around with different number of outputs\n",
    "    # Function Definition from Above:\n",
    "    #   fully_conn(x_tensor, num_outputs)\n",
    "    x = fully_conn(x, 512)\n",
    "    x = fully_conn(x, 64)\n",
    "    x = tf.nn.dropout(x, keep_prob)\n",
    "    \n",
    "    # TODO: Apply an Output Layer\n",
    "    #    Set this to the number of classes\n",
    "    # Function Definition from Above:\n",
    "    #   output(x_tensor, num_outputs)\n",
    "    x = output(x, 10)\n",
    "    \n",
    "    # TODO: return output\n",
    "    return x\n",
    "\n",
    "\n",
    "\"\"\"\n",
    "DON'T MODIFY ANYTHING IN THIS CELL THAT IS BELOW THIS LINE\n",
    "\"\"\"\n",
    "\n",
    "##############################\n",
    "## Build the Neural Network ##\n",
    "##############################\n",
    "\n",
    "# Remove previous weights, bias, inputs, etc..\n",
    "tf.reset_default_graph()\n",
    "\n",
    "# Inputs\n",
    "x = neural_net_image_input((32, 32, 3))\n",
    "y = neural_net_label_input(10)\n",
    "keep_prob = neural_net_keep_prob_input()\n",
    "\n",
    "# Model\n",
    "logits = conv_net(x, keep_prob)\n",
    "\n",
    "# Name logits Tensor, so that is can be loaded from disk after training\n",
    "logits = tf.identity(logits, name='logits')\n",
    "\n",
    "# Loss and Optimizer\n",
    "cost = tf.reduce_mean(tf.nn.softmax_cross_entropy_with_logits(logits=logits, labels=y))\n",
    "optimizer = tf.train.AdamOptimizer().minimize(cost)\n",
    "\n",
    "# Accuracy\n",
    "correct_pred = tf.equal(tf.argmax(logits, 1), tf.argmax(y, 1))\n",
    "accuracy = tf.reduce_mean(tf.cast(correct_pred, tf.float32), name='accuracy')\n",
    "\n",
    "tests.test_conv_net(conv_net)"
   ]
  },
  {
   "cell_type": "markdown",
   "metadata": {},
   "source": [
    "## Train the Neural Network\n",
    "### Single Optimization\n",
    "Implement the function `train_neural_network` to do a single optimization.  The optimization should use `optimizer` to optimize in `session` with a `feed_dict` of the following:\n",
    "* `x` for image input\n",
    "* `y` for labels\n",
    "* `keep_prob` for keep probability for dropout\n",
    "\n",
    "This function will be called for each batch, so `tf.global_variables_initializer()` has already been called.\n",
    "\n",
    "Note: Nothing needs to be returned. This function is only optimizing the neural network."
   ]
  },
  {
   "cell_type": "code",
   "execution_count": 20,
   "metadata": {},
   "outputs": [
    {
     "name": "stdout",
     "output_type": "stream",
     "text": [
      "Tests Passed\n"
     ]
    }
   ],
   "source": [
    "def train_neural_network(session, optimizer, keep_probability, feature_batch, label_batch):\n",
    "    \"\"\"\n",
    "    Optimize the session on a batch of images and labels\n",
    "    : session: Current TensorFlow session\n",
    "    : optimizer: TensorFlow optimizer function\n",
    "    : keep_probability: keep probability\n",
    "    : feature_batch: Batch of Numpy image data\n",
    "    : label_batch: Batch of Numpy label data\n",
    "    \"\"\"\n",
    "    # TODO: Implement Function\n",
    "    session.run(optimizer, feed_dict={x: feature_batch, y: label_batch, keep_prob: keep_probability})\n",
    "\n",
    "\"\"\"\n",
    "DON'T MODIFY ANYTHING IN THIS CELL THAT IS BELOW THIS LINE\n",
    "\"\"\"\n",
    "tests.test_train_nn(train_neural_network)"
   ]
  },
  {
   "cell_type": "markdown",
   "metadata": {},
   "source": [
    "### Show Stats\n",
    "Implement the function `print_stats` to print loss and validation accuracy.  Use the global variables `valid_features` and `valid_labels` to calculate validation accuracy.  Use a keep probability of `1.0` to calculate the loss and validation accuracy."
   ]
  },
  {
   "cell_type": "code",
   "execution_count": 23,
   "metadata": {
    "collapsed": true
   },
   "outputs": [],
   "source": [
    "def print_stats(session, feature_batch, label_batch, cost, accuracy):\n",
    "    \"\"\"\n",
    "    Print information about loss and validation accuracy\n",
    "    : session: Current TensorFlow session\n",
    "    : feature_batch: Batch of Numpy image data\n",
    "    : label_batch: Batch of Numpy label data\n",
    "    : cost: TensorFlow cost function\n",
    "    : accuracy: TensorFlow accuracy function\n",
    "    \"\"\"\n",
    "    # TODO: Implement Function\n",
    "    c = session.run(cost, feed_dict={x: feature_batch, y: label_batch, keep_prob:1.0})\n",
    "    ta = session.run(accuracy, feed_dict={x: feature_batch, y: label_batch, keep_prob:1.0})\n",
    "    va = session.run(accuracy, feed_dict={x: valid_features, y: valid_labels, keep_prob:1.0})\n",
    "    print(\"loss: {:.3f}, \".format(c)+ \"training accuracy: {:.3f}%, \".format(ta*100)+\"validation accuracy: {:.3f}%\".format(va*100))"
   ]
  },
  {
   "cell_type": "markdown",
   "metadata": {},
   "source": [
    "### Hyperparameters\n",
    "Tune the following parameters:\n",
    "* Set `epochs` to the number of iterations until the network stops learning or start overfitting\n",
    "* Set `batch_size` to the highest number that your machine has memory for.  Most people set them to common sizes of memory:\n",
    " * 64\n",
    " * 128\n",
    " * 256\n",
    " * ...\n",
    "* Set `keep_probability` to the probability of keeping a node using dropout"
   ]
  },
  {
   "cell_type": "code",
   "execution_count": 26,
   "metadata": {
    "collapsed": true
   },
   "outputs": [],
   "source": [
    "# TODO: Tune Parameters\n",
    "epochs = 20\n",
    "batch_size = 256\n",
    "keep_probability = 0.8"
   ]
  },
  {
   "cell_type": "markdown",
   "metadata": {},
   "source": [
    "### Train on a Single CIFAR-10 Batch\n",
    "Instead of training the neural network on all the CIFAR-10 batches of data, let's use a single batch. This should save time while you iterate on the model to get a better accuracy.  Once the final validation accuracy is 50% or greater, run the model on all the data in the next section."
   ]
  },
  {
   "cell_type": "code",
   "execution_count": 25,
   "metadata": {},
   "outputs": [
    {
     "name": "stdout",
     "output_type": "stream",
     "text": [
      "Checking the Training on a Single Batch...\n",
      "Epoch  1, CIFAR-10 Batch 1:  loss: 2.090, training accuracy: 25.000%, validation accuracy: 30.000%\n",
      "Epoch  2, CIFAR-10 Batch 1:  loss: 1.934, training accuracy: 30.000%, validation accuracy: 37.600%\n",
      "Epoch  3, CIFAR-10 Batch 1:  loss: 1.842, training accuracy: 32.500%, validation accuracy: 39.280%\n",
      "Epoch  4, CIFAR-10 Batch 1:  loss: 1.715, training accuracy: 40.000%, validation accuracy: 42.480%\n",
      "Epoch  5, CIFAR-10 Batch 1:  loss: 1.622, training accuracy: 47.500%, validation accuracy: 43.600%\n",
      "Epoch  6, CIFAR-10 Batch 1:  loss: 1.418, training accuracy: 47.500%, validation accuracy: 46.840%\n",
      "Epoch  7, CIFAR-10 Batch 1:  loss: 1.294, training accuracy: 57.500%, validation accuracy: 47.180%\n",
      "Epoch  8, CIFAR-10 Batch 1:  loss: 1.184, training accuracy: 55.000%, validation accuracy: 49.140%\n",
      "Epoch  9, CIFAR-10 Batch 1:  loss: 1.116, training accuracy: 62.500%, validation accuracy: 49.460%\n",
      "Epoch 10, CIFAR-10 Batch 1:  loss: 1.008, training accuracy: 55.000%, validation accuracy: 49.660%\n",
      "Epoch 11, CIFAR-10 Batch 1:  loss: 0.884, training accuracy: 70.000%, validation accuracy: 50.480%\n",
      "Epoch 12, CIFAR-10 Batch 1:  loss: 0.814, training accuracy: 65.000%, validation accuracy: 52.720%\n",
      "Epoch 13, CIFAR-10 Batch 1:  loss: 0.657, training accuracy: 82.500%, validation accuracy: 51.280%\n",
      "Epoch 14, CIFAR-10 Batch 1:  loss: 0.554, training accuracy: 80.000%, validation accuracy: 52.800%\n",
      "Epoch 15, CIFAR-10 Batch 1:  loss: 0.521, training accuracy: 87.500%, validation accuracy: 50.320%\n",
      "Epoch 16, CIFAR-10 Batch 1:  loss: 0.451, training accuracy: 90.000%, validation accuracy: 53.440%\n",
      "Epoch 17, CIFAR-10 Batch 1:  loss: 0.389, training accuracy: 85.000%, validation accuracy: 53.280%\n",
      "Epoch 18, CIFAR-10 Batch 1:  loss: 0.304, training accuracy: 95.000%, validation accuracy: 55.180%\n",
      "Epoch 19, CIFAR-10 Batch 1:  loss: 0.280, training accuracy: 97.500%, validation accuracy: 55.300%\n",
      "Epoch 20, CIFAR-10 Batch 1:  loss: 0.223, training accuracy: 97.500%, validation accuracy: 55.020%\n",
      "Epoch 21, CIFAR-10 Batch 1:  loss: 0.177, training accuracy: 95.000%, validation accuracy: 54.900%\n",
      "Epoch 22, CIFAR-10 Batch 1:  loss: 0.205, training accuracy: 100.000%, validation accuracy: 51.460%\n",
      "Epoch 23, CIFAR-10 Batch 1:  loss: 0.280, training accuracy: 95.000%, validation accuracy: 51.100%\n",
      "Epoch 24, CIFAR-10 Batch 1:  loss: 0.126, training accuracy: 100.000%, validation accuracy: 55.860%\n",
      "Epoch 25, CIFAR-10 Batch 1:  loss: 0.109, training accuracy: 100.000%, validation accuracy: 53.100%\n",
      "Epoch 26, CIFAR-10 Batch 1:  loss: 0.098, training accuracy: 100.000%, validation accuracy: 53.300%\n",
      "Epoch 27, CIFAR-10 Batch 1:  loss: 0.096, training accuracy: 97.500%, validation accuracy: 52.860%\n",
      "Epoch 28, CIFAR-10 Batch 1:  loss: 0.070, training accuracy: 100.000%, validation accuracy: 52.340%\n",
      "Epoch 29, CIFAR-10 Batch 1:  loss: 0.075, training accuracy: 97.500%, validation accuracy: 54.080%\n",
      "Epoch 30, CIFAR-10 Batch 1:  loss: 0.067, training accuracy: 100.000%, validation accuracy: 56.600%\n",
      "Epoch 31, CIFAR-10 Batch 1:  loss: 0.051, training accuracy: 100.000%, validation accuracy: 55.820%\n",
      "Epoch 32, CIFAR-10 Batch 1:  loss: 0.046, training accuracy: 100.000%, validation accuracy: 54.380%\n",
      "Epoch 33, CIFAR-10 Batch 1:  loss: 0.019, training accuracy: 100.000%, validation accuracy: 54.540%\n",
      "Epoch 34, CIFAR-10 Batch 1:  loss: 0.022, training accuracy: 100.000%, validation accuracy: 54.780%\n",
      "Epoch 35, CIFAR-10 Batch 1:  loss: 0.018, training accuracy: 100.000%, validation accuracy: 56.280%\n",
      "Epoch 36, CIFAR-10 Batch 1:  loss: 0.014, training accuracy: 100.000%, validation accuracy: 53.820%\n",
      "Epoch 37, CIFAR-10 Batch 1:  loss: 0.014, training accuracy: 100.000%, validation accuracy: 54.340%\n",
      "Epoch 38, CIFAR-10 Batch 1:  loss: 0.016, training accuracy: 100.000%, validation accuracy: 53.900%\n",
      "Epoch 39, CIFAR-10 Batch 1:  loss: 0.011, training accuracy: 100.000%, validation accuracy: 50.520%\n",
      "Epoch 40, CIFAR-10 Batch 1:  loss: 0.008, training accuracy: 100.000%, validation accuracy: 55.500%\n"
     ]
    }
   ],
   "source": [
    "\"\"\"\n",
    "DON'T MODIFY ANYTHING IN THIS CELL\n",
    "\"\"\"\n",
    "print('Checking the Training on a Single Batch...')\n",
    "with tf.Session() as sess:\n",
    "    # Initializing the variables\n",
    "    sess.run(tf.global_variables_initializer())\n",
    "    \n",
    "    # Training cycle\n",
    "    for epoch in range(epochs):\n",
    "        batch_i = 1\n",
    "        for batch_features, batch_labels in helper.load_preprocess_training_batch(batch_i, batch_size):\n",
    "            train_neural_network(sess, optimizer, keep_probability, batch_features, batch_labels)\n",
    "        print('Epoch {:>2}, CIFAR-10 Batch {}:  '.format(epoch + 1, batch_i), end='')\n",
    "        print_stats(sess, batch_features, batch_labels, cost, accuracy)"
   ]
  },
  {
   "cell_type": "markdown",
   "metadata": {},
   "source": [
    "### Fully Train the Model\n",
    "Now that you got a good accuracy with a single CIFAR-10 batch, try it with all five batches."
   ]
  },
  {
   "cell_type": "code",
   "execution_count": 27,
   "metadata": {},
   "outputs": [
    {
     "name": "stdout",
     "output_type": "stream",
     "text": [
      "Training...\n",
      "Epoch  1, CIFAR-10 Batch 1:  loss: 2.173, training accuracy: 20.000%, validation accuracy: 28.480%\n",
      "Epoch  1, CIFAR-10 Batch 2:  loss: 1.812, training accuracy: 42.500%, validation accuracy: 37.980%\n",
      "Epoch  1, CIFAR-10 Batch 3:  loss: 1.361, training accuracy: 60.000%, validation accuracy: 41.120%\n",
      "Epoch  1, CIFAR-10 Batch 4:  loss: 1.621, training accuracy: 45.000%, validation accuracy: 38.600%\n",
      "Epoch  1, CIFAR-10 Batch 5:  loss: 1.566, training accuracy: 45.000%, validation accuracy: 44.420%\n",
      "Epoch  2, CIFAR-10 Batch 1:  loss: 1.615, training accuracy: 45.000%, validation accuracy: 46.580%\n",
      "Epoch  2, CIFAR-10 Batch 2:  loss: 1.393, training accuracy: 45.000%, validation accuracy: 45.260%\n",
      "Epoch  2, CIFAR-10 Batch 3:  loss: 1.121, training accuracy: 62.500%, validation accuracy: 46.760%\n",
      "Epoch  2, CIFAR-10 Batch 4:  loss: 1.306, training accuracy: 47.500%, validation accuracy: 48.260%\n",
      "Epoch  2, CIFAR-10 Batch 5:  loss: 1.301, training accuracy: 52.500%, validation accuracy: 51.560%\n",
      "Epoch  3, CIFAR-10 Batch 1:  loss: 1.420, training accuracy: 50.000%, validation accuracy: 50.440%\n",
      "Epoch  3, CIFAR-10 Batch 2:  loss: 1.172, training accuracy: 47.500%, validation accuracy: 52.540%\n",
      "Epoch  3, CIFAR-10 Batch 3:  loss: 0.962, training accuracy: 70.000%, validation accuracy: 53.020%\n",
      "Epoch  3, CIFAR-10 Batch 4:  loss: 1.114, training accuracy: 50.000%, validation accuracy: 53.240%\n",
      "Epoch  3, CIFAR-10 Batch 5:  loss: 1.126, training accuracy: 60.000%, validation accuracy: 56.460%\n",
      "Epoch  4, CIFAR-10 Batch 1:  loss: 1.329, training accuracy: 52.500%, validation accuracy: 51.520%\n",
      "Epoch  4, CIFAR-10 Batch 2:  loss: 0.850, training accuracy: 62.500%, validation accuracy: 57.680%\n",
      "Epoch  4, CIFAR-10 Batch 3:  loss: 0.732, training accuracy: 75.000%, validation accuracy: 58.240%\n",
      "Epoch  4, CIFAR-10 Batch 4:  loss: 0.885, training accuracy: 62.500%, validation accuracy: 57.680%\n",
      "Epoch  4, CIFAR-10 Batch 5:  loss: 0.865, training accuracy: 67.500%, validation accuracy: 58.980%\n",
      "Epoch  5, CIFAR-10 Batch 1:  loss: 1.004, training accuracy: 62.500%, validation accuracy: 58.060%\n",
      "Epoch  5, CIFAR-10 Batch 2:  loss: 0.695, training accuracy: 75.000%, validation accuracy: 59.680%\n",
      "Epoch  5, CIFAR-10 Batch 3:  loss: 0.660, training accuracy: 77.500%, validation accuracy: 58.800%\n",
      "Epoch  5, CIFAR-10 Batch 4:  loss: 0.698, training accuracy: 77.500%, validation accuracy: 61.540%\n",
      "Epoch  5, CIFAR-10 Batch 5:  loss: 0.644, training accuracy: 80.000%, validation accuracy: 61.380%\n",
      "Epoch  6, CIFAR-10 Batch 1:  loss: 0.766, training accuracy: 75.000%, validation accuracy: 61.540%\n",
      "Epoch  6, CIFAR-10 Batch 2:  loss: 0.551, training accuracy: 85.000%, validation accuracy: 60.860%\n",
      "Epoch  6, CIFAR-10 Batch 3:  loss: 0.454, training accuracy: 82.500%, validation accuracy: 63.000%\n",
      "Epoch  6, CIFAR-10 Batch 4:  loss: 0.519, training accuracy: 85.000%, validation accuracy: 63.120%\n",
      "Epoch  6, CIFAR-10 Batch 5:  loss: 0.510, training accuracy: 90.000%, validation accuracy: 63.340%\n",
      "Epoch  7, CIFAR-10 Batch 1:  loss: 0.495, training accuracy: 87.500%, validation accuracy: 64.040%\n",
      "Epoch  7, CIFAR-10 Batch 2:  loss: 0.441, training accuracy: 90.000%, validation accuracy: 63.080%\n",
      "Epoch  7, CIFAR-10 Batch 3:  loss: 0.313, training accuracy: 95.000%, validation accuracy: 65.260%\n",
      "Epoch  7, CIFAR-10 Batch 4:  loss: 0.414, training accuracy: 87.500%, validation accuracy: 65.200%\n",
      "Epoch  7, CIFAR-10 Batch 5:  loss: 0.340, training accuracy: 95.000%, validation accuracy: 66.460%\n",
      "Epoch  8, CIFAR-10 Batch 1:  loss: 0.398, training accuracy: 87.500%, validation accuracy: 65.700%\n",
      "Epoch  8, CIFAR-10 Batch 2:  loss: 0.337, training accuracy: 90.000%, validation accuracy: 65.540%\n",
      "Epoch  8, CIFAR-10 Batch 3:  loss: 0.255, training accuracy: 97.500%, validation accuracy: 65.880%\n",
      "Epoch  8, CIFAR-10 Batch 4:  loss: 0.364, training accuracy: 87.500%, validation accuracy: 65.620%\n",
      "Epoch  8, CIFAR-10 Batch 5:  loss: 0.225, training accuracy: 100.000%, validation accuracy: 67.020%\n",
      "Epoch  9, CIFAR-10 Batch 1:  loss: 0.298, training accuracy: 87.500%, validation accuracy: 67.720%\n",
      "Epoch  9, CIFAR-10 Batch 2:  loss: 0.267, training accuracy: 92.500%, validation accuracy: 67.620%\n",
      "Epoch  9, CIFAR-10 Batch 3:  loss: 0.152, training accuracy: 97.500%, validation accuracy: 68.020%\n",
      "Epoch  9, CIFAR-10 Batch 4:  loss: 0.271, training accuracy: 92.500%, validation accuracy: 66.760%\n",
      "Epoch  9, CIFAR-10 Batch 5:  loss: 0.168, training accuracy: 100.000%, validation accuracy: 68.120%\n",
      "Epoch 10, CIFAR-10 Batch 1:  loss: 0.220, training accuracy: 97.500%, validation accuracy: 67.540%\n",
      "Epoch 10, CIFAR-10 Batch 2:  loss: 0.186, training accuracy: 95.000%, validation accuracy: 68.120%\n",
      "Epoch 10, CIFAR-10 Batch 3:  loss: 0.116, training accuracy: 97.500%, validation accuracy: 68.800%\n",
      "Epoch 10, CIFAR-10 Batch 4:  loss: 0.222, training accuracy: 92.500%, validation accuracy: 66.200%\n",
      "Epoch 10, CIFAR-10 Batch 5:  loss: 0.133, training accuracy: 97.500%, validation accuracy: 66.680%\n",
      "Epoch 11, CIFAR-10 Batch 1:  loss: 0.208, training accuracy: 100.000%, validation accuracy: 68.880%\n",
      "Epoch 11, CIFAR-10 Batch 2:  loss: 0.180, training accuracy: 95.000%, validation accuracy: 68.580%\n",
      "Epoch 11, CIFAR-10 Batch 3:  loss: 0.090, training accuracy: 100.000%, validation accuracy: 68.340%\n",
      "Epoch 11, CIFAR-10 Batch 4:  loss: 0.165, training accuracy: 97.500%, validation accuracy: 67.140%\n",
      "Epoch 11, CIFAR-10 Batch 5:  loss: 0.064, training accuracy: 100.000%, validation accuracy: 68.780%\n",
      "Epoch 12, CIFAR-10 Batch 1:  loss: 0.203, training accuracy: 97.500%, validation accuracy: 68.080%\n",
      "Epoch 12, CIFAR-10 Batch 2:  loss: 0.158, training accuracy: 95.000%, validation accuracy: 69.360%\n",
      "Epoch 12, CIFAR-10 Batch 3:  loss: 0.074, training accuracy: 100.000%, validation accuracy: 66.920%\n",
      "Epoch 12, CIFAR-10 Batch 4:  loss: 0.100, training accuracy: 97.500%, validation accuracy: 68.100%\n",
      "Epoch 12, CIFAR-10 Batch 5:  loss: 0.047, training accuracy: 100.000%, validation accuracy: 69.500%\n",
      "Epoch 13, CIFAR-10 Batch 1:  loss: 0.230, training accuracy: 95.000%, validation accuracy: 66.420%\n",
      "Epoch 13, CIFAR-10 Batch 2:  loss: 0.108, training accuracy: 100.000%, validation accuracy: 69.000%\n",
      "Epoch 13, CIFAR-10 Batch 3:  loss: 0.050, training accuracy: 100.000%, validation accuracy: 67.580%\n",
      "Epoch 13, CIFAR-10 Batch 4:  loss: 0.100, training accuracy: 97.500%, validation accuracy: 68.260%\n",
      "Epoch 13, CIFAR-10 Batch 5:  loss: 0.060, training accuracy: 100.000%, validation accuracy: 69.720%\n",
      "Epoch 14, CIFAR-10 Batch 1:  loss: 0.128, training accuracy: 100.000%, validation accuracy: 68.840%\n",
      "Epoch 14, CIFAR-10 Batch 2:  loss: 0.075, training accuracy: 97.500%, validation accuracy: 68.440%\n",
      "Epoch 14, CIFAR-10 Batch 3:  loss: 0.074, training accuracy: 100.000%, validation accuracy: 66.120%\n",
      "Epoch 14, CIFAR-10 Batch 4:  loss: 0.085, training accuracy: 100.000%, validation accuracy: 69.080%\n",
      "Epoch 14, CIFAR-10 Batch 5:  loss: 0.046, training accuracy: 100.000%, validation accuracy: 69.780%\n",
      "Epoch 15, CIFAR-10 Batch 1:  loss: 0.088, training accuracy: 100.000%, validation accuracy: 68.080%\n",
      "Epoch 15, CIFAR-10 Batch 2:  loss: 0.054, training accuracy: 100.000%, validation accuracy: 68.180%\n",
      "Epoch 15, CIFAR-10 Batch 3:  loss: 0.037, training accuracy: 100.000%, validation accuracy: 65.560%\n",
      "Epoch 15, CIFAR-10 Batch 4:  loss: 0.095, training accuracy: 100.000%, validation accuracy: 67.440%\n",
      "Epoch 15, CIFAR-10 Batch 5:  loss: 0.026, training accuracy: 100.000%, validation accuracy: 68.220%\n",
      "Epoch 16, CIFAR-10 Batch 1:  loss: 0.057, training accuracy: 100.000%, validation accuracy: 68.780%\n",
      "Epoch 16, CIFAR-10 Batch 2:  loss: 0.060, training accuracy: 100.000%, validation accuracy: 68.700%\n",
      "Epoch 16, CIFAR-10 Batch 3:  loss: 0.029, training accuracy: 100.000%, validation accuracy: 68.260%\n",
      "Epoch 16, CIFAR-10 Batch 4:  loss: 0.041, training accuracy: 100.000%, validation accuracy: 68.500%\n",
      "Epoch 16, CIFAR-10 Batch 5:  loss: 0.014, training accuracy: 100.000%, validation accuracy: 67.840%\n",
      "Epoch 17, CIFAR-10 Batch 1:  loss: 0.063, training accuracy: 97.500%, validation accuracy: 67.160%\n",
      "Epoch 17, CIFAR-10 Batch 2:  loss: 0.063, training accuracy: 97.500%, validation accuracy: 66.480%\n",
      "Epoch 17, CIFAR-10 Batch 3:  loss: 0.030, training accuracy: 100.000%, validation accuracy: 67.660%\n"
     ]
    },
    {
     "name": "stdout",
     "output_type": "stream",
     "text": [
      "Epoch 17, CIFAR-10 Batch 4:  loss: 0.021, training accuracy: 100.000%, validation accuracy: 67.700%\n",
      "Epoch 17, CIFAR-10 Batch 5:  loss: 0.011, training accuracy: 100.000%, validation accuracy: 68.740%\n",
      "Epoch 18, CIFAR-10 Batch 1:  loss: 0.049, training accuracy: 100.000%, validation accuracy: 68.560%\n",
      "Epoch 18, CIFAR-10 Batch 2:  loss: 0.048, training accuracy: 100.000%, validation accuracy: 68.000%\n",
      "Epoch 18, CIFAR-10 Batch 3:  loss: 0.022, training accuracy: 100.000%, validation accuracy: 67.140%\n",
      "Epoch 18, CIFAR-10 Batch 4:  loss: 0.016, training accuracy: 100.000%, validation accuracy: 70.060%\n",
      "Epoch 18, CIFAR-10 Batch 5:  loss: 0.023, training accuracy: 100.000%, validation accuracy: 69.300%\n",
      "Epoch 19, CIFAR-10 Batch 1:  loss: 0.056, training accuracy: 100.000%, validation accuracy: 68.780%\n",
      "Epoch 19, CIFAR-10 Batch 2:  loss: 0.024, training accuracy: 100.000%, validation accuracy: 69.920%\n",
      "Epoch 19, CIFAR-10 Batch 3:  loss: 0.012, training accuracy: 100.000%, validation accuracy: 68.020%\n",
      "Epoch 19, CIFAR-10 Batch 4:  loss: 0.014, training accuracy: 100.000%, validation accuracy: 69.300%\n",
      "Epoch 19, CIFAR-10 Batch 5:  loss: 0.014, training accuracy: 100.000%, validation accuracy: 70.320%\n",
      "Epoch 20, CIFAR-10 Batch 1:  loss: 0.040, training accuracy: 100.000%, validation accuracy: 66.640%\n",
      "Epoch 20, CIFAR-10 Batch 2:  loss: 0.018, training accuracy: 100.000%, validation accuracy: 67.340%\n",
      "Epoch 20, CIFAR-10 Batch 3:  loss: 0.009, training accuracy: 100.000%, validation accuracy: 68.700%\n",
      "Epoch 20, CIFAR-10 Batch 4:  loss: 0.012, training accuracy: 100.000%, validation accuracy: 69.300%\n",
      "Epoch 20, CIFAR-10 Batch 5:  loss: 0.003, training accuracy: 100.000%, validation accuracy: 69.220%\n"
     ]
    }
   ],
   "source": [
    "\"\"\"\n",
    "DON'T MODIFY ANYTHING IN THIS CELL\n",
    "\"\"\"\n",
    "save_model_path = './image_classification'\n",
    "\n",
    "print('Training...')\n",
    "with tf.Session() as sess:\n",
    "    # Initializing the variables\n",
    "    sess.run(tf.global_variables_initializer())\n",
    "    \n",
    "    # Training cycle\n",
    "    for epoch in range(epochs):\n",
    "        # Loop over all batches\n",
    "        n_batches = 5\n",
    "        for batch_i in range(1, n_batches + 1):\n",
    "            for batch_features, batch_labels in helper.load_preprocess_training_batch(batch_i, batch_size):\n",
    "                train_neural_network(sess, optimizer, keep_probability, batch_features, batch_labels)\n",
    "            print('Epoch {:>2}, CIFAR-10 Batch {}:  '.format(epoch + 1, batch_i), end='')\n",
    "            print_stats(sess, batch_features, batch_labels, cost, accuracy)\n",
    "            \n",
    "    # Save Model\n",
    "    saver = tf.train.Saver()\n",
    "    save_path = saver.save(sess, save_model_path)"
   ]
  },
  {
   "cell_type": "markdown",
   "metadata": {},
   "source": [
    "# Checkpoint\n",
    "The model has been saved to disk.\n",
    "## Test Model\n",
    "Test your model against the test dataset.  This will be your final accuracy. You should have an accuracy greater than 50%. If you don't, keep tweaking the model architecture and parameters."
   ]
  },
  {
   "cell_type": "code",
   "execution_count": 28,
   "metadata": {},
   "outputs": [
    {
     "name": "stdout",
     "output_type": "stream",
     "text": [
      "INFO:tensorflow:Restoring parameters from ./image_classification\n",
      "Testing Accuracy: 0.6884765625\n",
      "\n"
     ]
    },
    {
     "data": {
      "image/png": "[encoded data removed]",
      "text/plain": [
       "<matplotlib.figure.Figure at 0x7fa7da6fce80>"
      ]
     },
     "metadata": {
      "image/png": {
       "height": 319,
       "width": 355
      }
     },
     "output_type": "display_data"
    }
   ],
   "source": [
    "\"\"\"\n",
    "DON'T MODIFY ANYTHING IN THIS CELL\n",
    "\"\"\"\n",
    "%matplotlib inline\n",
    "%config InlineBackend.figure_format = 'retina'\n",
    "\n",
    "import tensorflow as tf\n",
    "import pickle\n",
    "import helper\n",
    "import random\n",
    "\n",
    "# Set batch size if not already set\n",
    "try:\n",
    "    if batch_size:\n",
    "        pass\n",
    "except NameError:\n",
    "    batch_size = 64\n",
    "\n",
    "save_model_path = './image_classification'\n",
    "n_samples = 4\n",
    "top_n_predictions = 3\n",
    "\n",
    "def test_model():\n",
    "    \"\"\"\n",
    "    Test the saved model against the test dataset\n",
    "    \"\"\"\n",
    "\n",
    "    test_features, test_labels = pickle.load(open('preprocess_test.p', mode='rb'))\n",
    "    loaded_graph = tf.Graph()\n",
    "\n",
    "    with tf.Session(graph=loaded_graph) as sess:\n",
    "        # Load model\n",
    "        loader = tf.train.import_meta_graph(save_model_path + '.meta')\n",
    "        loader.restore(sess, save_model_path)\n",
    "\n",
    "        # Get Tensors from loaded model\n",
    "        loaded_x = loaded_graph.get_tensor_by_name('x:0')\n",
    "        loaded_y = loaded_graph.get_tensor_by_name('y:0')\n",
    "        loaded_keep_prob = loaded_graph.get_tensor_by_name('keep_prob:0')\n",
    "        loaded_logits = loaded_graph.get_tensor_by_name('logits:0')\n",
    "        loaded_acc = loaded_graph.get_tensor_by_name('accuracy:0')\n",
    "        \n",
    "        # Get accuracy in batches for memory limitations\n",
    "        test_batch_acc_total = 0\n",
    "        test_batch_count = 0\n",
    "        \n",
    "        for test_feature_batch, test_label_batch in helper.batch_features_labels(test_features, test_labels, batch_size):\n",
    "            test_batch_acc_total += sess.run(\n",
    "                loaded_acc,\n",
    "                feed_dict={loaded_x: test_feature_batch, loaded_y: test_label_batch, loaded_keep_prob: 1.0})\n",
    "            test_batch_count += 1\n",
    "\n",
    "        print('Testing Accuracy: {}\\n'.format(test_batch_acc_total/test_batch_count))\n",
    "\n",
    "        # Print Random Samples\n",
    "        random_test_features, random_test_labels = tuple(zip(*random.sample(list(zip(test_features, test_labels)), n_samples)))\n",
    "        random_test_predictions = sess.run(\n",
    "            tf.nn.top_k(tf.nn.softmax(loaded_logits), top_n_predictions),\n",
    "            feed_dict={loaded_x: random_test_features, loaded_y: random_test_labels, loaded_keep_prob: 1.0})\n",
    "        helper.display_image_predictions(random_test_features, random_test_labels, random_test_predictions)\n",
    "\n",
    "\n",
    "test_model()"
   ]
  },
  {
   "cell_type": "markdown",
   "metadata": {},
   "source": [
    "## Why 50-80% Accuracy?\n",
    "You might be wondering why you can't get an accuracy any higher. First things first, 50% isn't bad for a simple CNN.  Pure guessing would get you 10% accuracy. However, you might notice people are getting scores [well above 80%](http://rodrigob.github.io/are_we_there_yet/build/classification_datasets_results.html#43494641522d3130).  That's because we haven't taught you all there is to know about neural networks. We still need to cover a few more techniques.\n",
    "## Submitting This Project\n",
    "When submitting this project, make sure to run all the cells before saving the notebook.  Save the notebook file as \"dlnd_image_classification.ipynb\" and save it as a HTML file under \"File\" -> \"Download as\".  Include the \"helper.py\" and \"problem_unittests.py\" files in your submission."
   ]
  }
 ],
 "metadata": {
  "anaconda-cloud": {},
  "kernelspec": {
   "display_name": "Python 3",
   "language": "python",
   "name": "python3"
  },
  "language_info": {
   "codemirror_mode": {
    "name": "ipython",
    "version": 3
   },
   "file_extension": ".py",
   "mimetype": "text/x-python",
   "name": "python",
   "nbconvert_exporter": "python",
   "pygments_lexer": "ipython3",
   "version": "3.5.3"
  }
 },
 "nbformat": 4,
 "nbformat_minor": 1
}
