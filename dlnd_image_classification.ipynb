{
 "cells": [
  {
   "cell_type": "markdown",
   "metadata": {
    "collapsed": true
   },
   "source": [
    "# Image Classification\n",
    "In this project, you'll classify images from the [CIFAR-10 dataset](https://www.cs.toronto.edu/~kriz/cifar.html).  The dataset consists of airplanes, dogs, cats, and other objects. You'll preprocess the images, then train a convolutional neural network on all the samples. The images need to be normalized and the labels need to be one-hot encoded.  You'll get to apply what you learned and build a convolutional, max pooling, dropout, and fully connected layers.  At the end, you'll get to see your neural network's predictions on the sample images.\n",
    "## Get the Data\n",
    "Run the following cell to download the [CIFAR-10 dataset for python](https://www.cs.toronto.edu/~kriz/cifar-10-python.tar.gz)."
   ]
  },
  {
   "cell_type": "code",
   "execution_count": 1,
   "metadata": {},
   "outputs": [
    {
     "name": "stderr",
     "output_type": "stream",
     "text": [
      "CIFAR-10 Dataset: 171MB [00:17, 9.64MB/s]                              \n"
     ]
    },
    {
     "name": "stdout",
     "output_type": "stream",
     "text": [
      "All files found!\n"
     ]
    }
   ],
   "source": [
    "\"\"\"\n",
    "DON'T MODIFY ANYTHING IN THIS CELL THAT IS BELOW THIS LINE\n",
    "\"\"\"\n",
    "from urllib.request import urlretrieve\n",
    "from os.path import isfile, isdir\n",
    "from tqdm import tqdm\n",
    "import problem_unittests as tests\n",
    "import tarfile\n",
    "\n",
    "cifar10_dataset_folder_path = 'cifar-10-batches-py'\n",
    "\n",
    "# Use Floyd's cifar-10 dataset if present\n",
    "floyd_cifar10_location = '/cifar/cifar-10-python.tar.gz'\n",
    "if isfile(floyd_cifar10_location):\n",
    "    tar_gz_path = floyd_cifar10_location\n",
    "else:\n",
    "    tar_gz_path = 'cifar-10-python.tar.gz'\n",
    "\n",
    "class DLProgress(tqdm):\n",
    "    last_block = 0\n",
    "\n",
    "    def hook(self, block_num=1, block_size=1, total_size=None):\n",
    "        self.total = total_size\n",
    "        self.update((block_num - self.last_block) * block_size)\n",
    "        self.last_block = block_num\n",
    "\n",
    "if not isfile(tar_gz_path):\n",
    "    with DLProgress(unit='B', unit_scale=True, miniters=1, desc='CIFAR-10 Dataset') as pbar:\n",
    "        urlretrieve(\n",
    "            'https://www.cs.toronto.edu/~kriz/cifar-10-python.tar.gz',\n",
    "            tar_gz_path,\n",
    "            pbar.hook)\n",
    "\n",
    "if not isdir(cifar10_dataset_folder_path):\n",
    "    with tarfile.open(tar_gz_path) as tar:\n",
    "        tar.extractall()\n",
    "        tar.close()\n",
    "\n",
    "\n",
    "tests.test_folder_path(cifar10_dataset_folder_path)"
   ]
  },
  {
   "cell_type": "markdown",
   "metadata": {},
   "source": [
    "## Explore the Data\n",
    "The dataset is broken into batches to prevent your machine from running out of memory.  The CIFAR-10 dataset consists of 5 batches, named `data_batch_1`, `data_batch_2`, etc.. Each batch contains the labels and images that are one of the following:\n",
    "* airplane\n",
    "* automobile\n",
    "* bird\n",
    "* cat\n",
    "* deer\n",
    "* dog\n",
    "* frog\n",
    "* horse\n",
    "* ship\n",
    "* truck\n",
    "\n",
    "Understanding a dataset is part of making predictions on the data.  Play around with the code cell below by changing the `batch_id` and `sample_id`. The `batch_id` is the id for a batch (1-5). The `sample_id` is the id for a image and label pair in the batch.\n",
    "\n",
    "Ask yourself \"What are all possible labels?\", \"What is the range of values for the image data?\", \"Are the labels in order or random?\".  Answers to questions like these will help you preprocess the data and end up with better predictions."
   ]
  },
  {
   "cell_type": "code",
   "execution_count": 2,
   "metadata": {},
   "outputs": [
    {
     "name": "stdout",
     "output_type": "stream",
     "text": [
      "\n",
      "Stats of batch 1:\n",
      "Samples: 10000\n",
      "Label Counts: {0: 1005, 1: 974, 2: 1032, 3: 1016, 4: 999, 5: 937, 6: 1030, 7: 1001, 8: 1025, 9: 981}\n",
      "First 20 Labels: [6, 9, 9, 4, 1, 1, 2, 7, 8, 3, 4, 7, 7, 2, 9, 9, 9, 3, 2, 6]\n",
      "\n",
      "Example of Image 5:\n",
      "Image - Min Value: 0 Max Value: 252\n",
      "Image - Shape: (32, 32, 3)\n",
      "Label - Label Id: 1 Name: automobile\n"
     ]
    },
    {
     "data": {
      "image/png": "[encoded data removed]",
      "text/plain": [
       "<matplotlib.figure.Figure at 0x7eff20c38b00>"
      ]
     },
     "metadata": {
      "image/png": {
       "height": 250,
       "width": 253
      }
     },
     "output_type": "display_data"
    }
   ],
   "source": [
    "%matplotlib inline\n",
    "%config InlineBackend.figure_format = 'retina'\n",
    "\n",
    "import helper\n",
    "import numpy as np\n",
    "\n",
    "# Explore the dataset\n",
    "batch_id = 1\n",
    "sample_id = 5\n",
    "helper.display_stats(cifar10_dataset_folder_path, batch_id, sample_id)"
   ]
  },
  {
   "cell_type": "markdown",
   "metadata": {},
   "source": [
    "## Implement Preprocess Functions\n",
    "### Normalize\n",
    "In the cell below, implement the `normalize` function to take in image data, `x`, and return it as a normalized Numpy array. The values should be in the range of 0 to 1, inclusive.  The return object should be the same shape as `x`."
   ]
  },
  {
   "cell_type": "code",
   "execution_count": 3,
   "metadata": {},
   "outputs": [
    {
     "name": "stdout",
     "output_type": "stream",
     "text": [
      "Tests Passed\n"
     ]
    }
   ],
   "source": [
    "def normalize(x):\n",
    "    \"\"\"\n",
    "    Normalize a list of sample image data in the range of 0 to 1\n",
    "    : x: List of image data.  The image shape is (32, 32, 3)\n",
    "    : return: Numpy array of normalize data\n",
    "    \"\"\"\n",
    "    # TODO: Implement Function\n",
    "    return x/255\n",
    "\n",
    "\n",
    "\"\"\"\n",
    "DON'T MODIFY ANYTHING IN THIS CELL THAT IS BELOW THIS LINE\n",
    "\"\"\"\n",
    "tests.test_normalize(normalize)"
   ]
  },
  {
   "cell_type": "markdown",
   "metadata": {},
   "source": [
    "### One-hot encode\n",
    "Just like the previous code cell, you'll be implementing a function for preprocessing.  This time, you'll implement the `one_hot_encode` function. The input, `x`, are a list of labels.  Implement the function to return the list of labels as One-Hot encoded Numpy array.  The possible values for labels are 0 to 9. The one-hot encoding function should return the same encoding for each value between each call to `one_hot_encode`.  Make sure to save the map of encodings outside the function.\n",
    "\n",
    "Hint: Don't reinvent the wheel."
   ]
  },
  {
   "cell_type": "code",
   "execution_count": 4,
   "metadata": {},
   "outputs": [
    {
     "name": "stdout",
     "output_type": "stream",
     "text": [
      "Tests Passed\n"
     ]
    }
   ],
   "source": [
    "def one_hot_encode(x):\n",
    "    \"\"\"\n",
    "    One hot encode a list of sample labels. Return a one-hot encoded vector for each label.\n",
    "    : x: List of sample Labels\n",
    "    : return: Numpy array of one-hot encoded labels\n",
    "    \"\"\"\n",
    "    # TODO: Implement Function\n",
    "    x_len = len(x)\n",
    "    rst = np.zeros((x_len,10))\n",
    "    for i in range(x_len):\n",
    "        rst[i][x[i]] = 1\n",
    "    return rst\n",
    "\n",
    "\n",
    "\"\"\"\n",
    "DON'T MODIFY ANYTHING IN THIS CELL THAT IS BELOW THIS LINE\n",
    "\"\"\"\n",
    "tests.test_one_hot_encode(one_hot_encode)"
   ]
  },
  {
   "cell_type": "markdown",
   "metadata": {},
   "source": [
    "### Randomize Data\n",
    "As you saw from exploring the data above, the order of the samples are randomized.  It doesn't hurt to randomize it again, but you don't need to for this dataset."
   ]
  },
  {
   "cell_type": "markdown",
   "metadata": {},
   "source": [
    "## Preprocess all the data and save it\n",
    "Running the code cell below will preprocess all the CIFAR-10 data and save it to file. The code below also uses 10% of the training data for validation."
   ]
  },
  {
   "cell_type": "code",
   "execution_count": 5,
   "metadata": {
    "collapsed": true
   },
   "outputs": [],
   "source": [
    "\"\"\"\n",
    "DON'T MODIFY ANYTHING IN THIS CELL\n",
    "\"\"\"\n",
    "# Preprocess Training, Validation, and Testing Data\n",
    "helper.preprocess_and_save_data(cifar10_dataset_folder_path, normalize, one_hot_encode)"
   ]
  },
  {
   "cell_type": "markdown",
   "metadata": {},
   "source": [
    "# Check Point\n",
    "This is your first checkpoint.  If you ever decide to come back to this notebook or have to restart the notebook, you can start from here.  The preprocessed data has been saved to disk."
   ]
  },
  {
   "cell_type": "code",
   "execution_count": 6,
   "metadata": {
    "collapsed": true
   },
   "outputs": [],
   "source": [
    "\"\"\"\n",
    "DON'T MODIFY ANYTHING IN THIS CELL\n",
    "\"\"\"\n",
    "import pickle\n",
    "import problem_unittests as tests\n",
    "import helper\n",
    "\n",
    "# Load the Preprocessed Validation data\n",
    "valid_features, valid_labels = pickle.load(open('preprocess_validation.p', mode='rb'))"
   ]
  },
  {
   "cell_type": "markdown",
   "metadata": {},
   "source": [
    "## Build the network\n",
    "For the neural network, you'll build each layer into a function.  Most of the code you've seen has been outside of functions. To test your code more thoroughly, we require that you put each layer in a function.  This allows us to give you better feedback and test for simple mistakes using our unittests before you submit your project.\n",
    "\n",
    ">**Note:** If you're finding it hard to dedicate enough time for this course each week, we've provided a small shortcut to this part of the project. In the next couple of problems, you'll have the option to use classes from the [TensorFlow Layers](https://www.tensorflow.org/api_docs/python/tf/layers) or [TensorFlow Layers (contrib)](https://www.tensorflow.org/api_guides/python/contrib.layers) packages to build each layer, except the layers you build in the \"Convolutional and Max Pooling Layer\" section.  TF Layers is similar to Keras's and TFLearn's abstraction to layers, so it's easy to pickup.\n",
    "\n",
    ">However, if you would like to get the most out of this course, try to solve all the problems _without_ using anything from the TF Layers packages. You **can** still use classes from other packages that happen to have the same name as ones you find in TF Layers! For example, instead of using the TF Layers version of the `conv2d` class, [tf.layers.conv2d](https://www.tensorflow.org/api_docs/python/tf/layers/conv2d), you would want to use the TF Neural Network version of `conv2d`, [tf.nn.conv2d](https://www.tensorflow.org/api_docs/python/tf/nn/conv2d). \n",
    "\n",
    "Let's begin!\n",
    "\n",
    "### Input\n",
    "The neural network needs to read the image data, one-hot encoded labels, and dropout keep probability. Implement the following functions\n",
    "* Implement `neural_net_image_input`\n",
    " * Return a [TF Placeholder](https://www.tensorflow.org/api_docs/python/tf/placeholder)\n",
    " * Set the shape using `image_shape` with batch size set to `None`.\n",
    " * Name the TensorFlow placeholder \"x\" using the TensorFlow `name` parameter in the [TF Placeholder](https://www.tensorflow.org/api_docs/python/tf/placeholder).\n",
    "* Implement `neural_net_label_input`\n",
    " * Return a [TF Placeholder](https://www.tensorflow.org/api_docs/python/tf/placeholder)\n",
    " * Set the shape using `n_classes` with batch size set to `None`.\n",
    " * Name the TensorFlow placeholder \"y\" using the TensorFlow `name` parameter in the [TF Placeholder](https://www.tensorflow.org/api_docs/python/tf/placeholder).\n",
    "* Implement `neural_net_keep_prob_input`\n",
    " * Return a [TF Placeholder](https://www.tensorflow.org/api_docs/python/tf/placeholder) for dropout keep probability.\n",
    " * Name the TensorFlow placeholder \"keep_prob\" using the TensorFlow `name` parameter in the [TF Placeholder](https://www.tensorflow.org/api_docs/python/tf/placeholder).\n",
    "\n",
    "These names will be used at the end of the project to load your saved model.\n",
    "\n",
    "Note: `None` for shapes in TensorFlow allow for a dynamic size."
   ]
  },
  {
   "cell_type": "code",
   "execution_count": 7,
   "metadata": {},
   "outputs": [
    {
     "name": "stdout",
     "output_type": "stream",
     "text": [
      "Image Input Tests Passed.\n",
      "Label Input Tests Passed.\n",
      "Keep Prob Tests Passed.\n"
     ]
    }
   ],
   "source": [
    "import tensorflow as tf\n",
    "\n",
    "def neural_net_image_input(image_shape):\n",
    "    \"\"\"\n",
    "    Return a Tensor for a batch of image input\n",
    "    : image_shape: Shape of the images\n",
    "    : return: Tensor for image input.\n",
    "    \"\"\"\n",
    "    # TODO: Implement Function\n",
    "    _shape = tuple([None]+list(image_shape))\n",
    "    return tf.placeholder(dtype=tf.float32, shape=_shape, name='x')\n",
    "\n",
    "\n",
    "def neural_net_label_input(n_classes):\n",
    "    \"\"\"\n",
    "    Return a Tensor for a batch of label input\n",
    "    : n_classes: Number of classes\n",
    "    : return: Tensor for label input.\n",
    "    \"\"\"\n",
    "    # TODO: Implement Function\n",
    "    _shape = (None, n_classes)\n",
    "    return tf.placeholder(dtype=tf.float32, shape=_shape, name='y')\n",
    "\n",
    "\n",
    "def neural_net_keep_prob_input():\n",
    "    \"\"\"\n",
    "    Return a Tensor for keep probability\n",
    "    : return: Tensor for keep probability.\n",
    "    \"\"\"\n",
    "    # TODO: Implement Function\n",
    "    return tf.placeholder(dtype=tf.float32, name='keep_prob')\n",
    "\n",
    "\n",
    "\"\"\"\n",
    "DON'T MODIFY ANYTHING IN THIS CELL THAT IS BELOW THIS LINE\n",
    "\"\"\"\n",
    "tf.reset_default_graph()\n",
    "tests.test_nn_image_inputs(neural_net_image_input)\n",
    "tests.test_nn_label_inputs(neural_net_label_input)\n",
    "tests.test_nn_keep_prob_inputs(neural_net_keep_prob_input)"
   ]
  },
  {
   "cell_type": "markdown",
   "metadata": {},
   "source": [
    "### Convolution and Max Pooling Layer\n",
    "Convolution layers have a lot of success with images. For this code cell, you should implement the function `conv2d_maxpool` to apply convolution then max pooling:\n",
    "* Create the weight and bias using `conv_ksize`, `conv_num_outputs` and the shape of `x_tensor`.\n",
    "* Apply a convolution to `x_tensor` using weight and `conv_strides`.\n",
    " * We recommend you use same padding, but you're welcome to use any padding.\n",
    "* Add bias\n",
    "* Add a nonlinear activation to the convolution.\n",
    "* Apply Max Pooling using `pool_ksize` and `pool_strides`.\n",
    " * We recommend you use same padding, but you're welcome to use any padding.\n",
    "\n",
    "**Note:** You **can't** use [TensorFlow Layers](https://www.tensorflow.org/api_docs/python/tf/layers) or [TensorFlow Layers (contrib)](https://www.tensorflow.org/api_guides/python/contrib.layers) for **this** layer, but you can still use TensorFlow's [Neural Network](https://www.tensorflow.org/api_docs/python/tf/nn) package. You may still use the shortcut option for all the **other** layers."
   ]
  },
  {
   "cell_type": "code",
   "execution_count": 8,
   "metadata": {},
   "outputs": [
    {
     "name": "stdout",
     "output_type": "stream",
     "text": [
      "Tests Passed\n"
     ]
    }
   ],
   "source": [
    "def conv2d_maxpool(x_tensor, conv_num_outputs, conv_ksize, conv_strides, pool_ksize, pool_strides):\n",
    "    \"\"\"\n",
    "    Apply convolution then max pooling to x_tensor\n",
    "    :param x_tensor: TensorFlow Tensor\n",
    "    :param conv_num_outputs: Number of outputs for the convolutional layer\n",
    "    :param conv_ksize: kernal size 2-D Tuple for the convolutional layer\n",
    "    :param conv_strides: Stride 2-D Tuple for convolution\n",
    "    :param pool_ksize: kernal size 2-D Tuple for pool\n",
    "    :param pool_strides: Stride 2-D Tuple for pool\n",
    "    : return: A tensor that represents convolution and max pooling of x_tensor\n",
    "    \"\"\"\n",
    "    # TODO: Implement Function\n",
    "    in_depth = x_tensor.get_shape().as_list()[-1]\n",
    "    wc = tf.Variable(tf.truncated_normal([conv_ksize[0], conv_ksize[1], in_depth, conv_num_outputs], stddev=0.05))\n",
    "    bc = tf.Variable(tf.zeros([conv_num_outputs]))\n",
    "    \n",
    "    x = tf.nn.conv2d(x_tensor, wc, strides=(1, conv_strides[0], conv_strides[1], 1), padding='SAME')\n",
    "    x = tf.nn.bias_add(x, bc)\n",
    "    x = tf.nn.relu(x)\n",
    "    x = tf.nn.max_pool(x, ksize=[1,pool_ksize[0], pool_ksize[1],1], strides = [1,pool_strides[0],pool_strides[1],1],\\\n",
    "                       padding='SAME')\n",
    "    return x\n",
    "\n",
    "\n",
    "\"\"\"\n",
    "DON'T MODIFY ANYTHING IN THIS CELL THAT IS BELOW THIS LINE\n",
    "\"\"\"\n",
    "tests.test_con_pool(conv2d_maxpool)"
   ]
  },
  {
   "cell_type": "markdown",
   "metadata": {},
   "source": [
    "### Flatten Layer\n",
    "Implement the `flatten` function to change the dimension of `x_tensor` from a 4-D tensor to a 2-D tensor.  The output should be the shape (*Batch Size*, *Flattened Image Size*). Shortcut option: you can use classes from the [TensorFlow Layers](https://www.tensorflow.org/api_docs/python/tf/layers) or [TensorFlow Layers (contrib)](https://www.tensorflow.org/api_guides/python/contrib.layers) packages for this layer. For more of a challenge, only use other TensorFlow packages."
   ]
  },
  {
   "cell_type": "code",
   "execution_count": 9,
   "metadata": {},
   "outputs": [
    {
     "name": "stdout",
     "output_type": "stream",
     "text": [
      "Tests Passed\n"
     ]
    }
   ],
   "source": [
    "def flatten(x_tensor):\n",
    "    \"\"\"\n",
    "    Flatten x_tensor to (Batch Size, Flattened Image Size)\n",
    "    : x_tensor: A tensor of size (Batch Size, ...), where ... are the image dimensions.\n",
    "    : return: A tensor of size (Batch Size, Flattened Image Size).\n",
    "    \"\"\"\n",
    "    # TODO: Implement Function\n",
    "    image_shape = x_tensor.get_shape().as_list()\n",
    "    flatten_image_size = image_shape[1]*image_shape[2]*image_shape[3]\n",
    "    x = tf.reshape(x_tensor, shape=[-1,flatten_image_size])\n",
    "    return x\n",
    "\n",
    "\n",
    "\"\"\"\n",
    "DON'T MODIFY ANYTHING IN THIS CELL THAT IS BELOW THIS LINE\n",
    "\"\"\"\n",
    "tests.test_flatten(flatten)"
   ]
  },
  {
   "cell_type": "markdown",
   "metadata": {},
   "source": [
    "### Fully-Connected Layer\n",
    "Implement the `fully_conn` function to apply a fully connected layer to `x_tensor` with the shape (*Batch Size*, *num_outputs*). Shortcut option: you can use classes from the [TensorFlow Layers](https://www.tensorflow.org/api_docs/python/tf/layers) or [TensorFlow Layers (contrib)](https://www.tensorflow.org/api_guides/python/contrib.layers) packages for this layer. For more of a challenge, only use other TensorFlow packages."
   ]
  },
  {
   "cell_type": "code",
   "execution_count": 11,
   "metadata": {},
   "outputs": [
    {
     "name": "stdout",
     "output_type": "stream",
     "text": [
      "Tests Passed\n"
     ]
    }
   ],
   "source": [
    "def fully_conn(x_tensor, num_outputs):\n",
    "    \"\"\"\n",
    "    Apply a fully connected layer to x_tensor using weight and bias\n",
    "    : x_tensor: A 2-D tensor where the first dimension is batch size.\n",
    "    : num_outputs: The number of output that the new tensor should be.\n",
    "    : return: A 2-D tensor where the second dimension is num_outputs.\n",
    "    \"\"\"\n",
    "    # TODO: Implement Function\n",
    "    x = x_tensor\n",
    "    flatten_image_size = x.get_shape().as_list()[-1]\n",
    "    wd = tf.Variable(tf.truncated_normal([flatten_image_size, num_outputs], stddev=0.05))\n",
    "    bd = tf.Variable(tf.zeros([num_outputs]))\n",
    "    x = tf.add(tf.matmul(x, wd), bd)\n",
    "    x = tf.nn.relu(x)\n",
    "    return x\n",
    "\n",
    "\n",
    "\"\"\"\n",
    "DON'T MODIFY ANYTHING IN THIS CELL THAT IS BELOW THIS LINE\n",
    "\"\"\"\n",
    "tests.test_fully_conn(fully_conn)"
   ]
  },
  {
   "cell_type": "markdown",
   "metadata": {},
   "source": [
    "### Output Layer\n",
    "Implement the `output` function to apply a fully connected layer to `x_tensor` with the shape (*Batch Size*, *num_outputs*). Shortcut option: you can use classes from the [TensorFlow Layers](https://www.tensorflow.org/api_docs/python/tf/layers) or [TensorFlow Layers (contrib)](https://www.tensorflow.org/api_guides/python/contrib.layers) packages for this layer. For more of a challenge, only use other TensorFlow packages.\n",
    "\n",
    "**Note:** Activation, softmax, or cross entropy should **not** be applied to this."
   ]
  },
  {
   "cell_type": "code",
   "execution_count": 12,
   "metadata": {},
   "outputs": [
    {
     "name": "stdout",
     "output_type": "stream",
     "text": [
      "Tests Passed\n"
     ]
    }
   ],
   "source": [
    "def output(x_tensor, num_outputs):\n",
    "    \"\"\"\n",
    "    Apply a output layer to x_tensor using weight and bias\n",
    "    : x_tensor: A 2-D tensor where the first dimension is batch size.\n",
    "    : num_outputs: The number of output that the new tensor should be.\n",
    "    : return: A 2-D tensor where the second dimension is num_outputs.\n",
    "    \"\"\"\n",
    "    # TODO: Implement Function\n",
    "    x = x_tensor\n",
    "    num_inputs = x.get_shape().as_list()[-1]\n",
    "    wo = tf.Variable(tf.truncated_normal([num_inputs, num_outputs], stddev=0.05))\n",
    "    bo = tf.Variable(tf.zeros([num_outputs]))\n",
    "    x = tf.add(tf.matmul(x, wo), bo)\n",
    "    return x\n",
    "\n",
    "\n",
    "\"\"\"\n",
    "DON'T MODIFY ANYTHING IN THIS CELL THAT IS BELOW THIS LINE\n",
    "\"\"\"\n",
    "tests.test_output(output)"
   ]
  },
  {
   "cell_type": "markdown",
   "metadata": {},
   "source": [
    "### Create Convolutional Model\n",
    "Implement the function `conv_net` to create a convolutional neural network model. The function takes in a batch of images, `x`, and outputs logits.  Use the layers you created above to create this model:\n",
    "\n",
    "* Apply 1, 2, or 3 Convolution and Max Pool layers\n",
    "* Apply a Flatten Layer\n",
    "* Apply 1, 2, or 3 Fully Connected Layers\n",
    "* Apply an Output Layer\n",
    "* Return the output\n",
    "* Apply [TensorFlow's Dropout](https://www.tensorflow.org/api_docs/python/tf/nn/dropout) to one or more layers in the model using `keep_prob`. "
   ]
  },
  {
   "cell_type": "code",
   "execution_count": 13,
   "metadata": {},
   "outputs": [
    {
     "name": "stdout",
     "output_type": "stream",
     "text": [
      "Neural Network Built!\n"
     ]
    }
   ],
   "source": [
    "def conv_net(x, keep_prob):\n",
    "    \"\"\"\n",
    "    Create a convolutional neural network model\n",
    "    : x: Placeholder tensor that holds image data.\n",
    "    : keep_prob: Placeholder tensor that hold dropout keep probability.\n",
    "    : return: Tensor that represents logits\n",
    "    \"\"\"\n",
    "    # TODO: Apply 1, 2, or 3 Convolution and Max Pool layers\n",
    "    #    Play around with different number of outputs, kernel size and stride\n",
    "    # Function Definition from Above:\n",
    "    #    conv2d_maxpool(x_tensor, conv_num_outputs, conv_ksize, conv_strides, pool_ksize, pool_strides)\n",
    "    x = conv2d_maxpool(x, 32, (8,8), (1,1), (2,2), (2,2))\n",
    "    x = conv2d_maxpool(x, 64, (4,4), (1,1), (2,2), (2,2))\n",
    "    x = conv2d_maxpool(x, 128, (2,2), (1,1), (2,2), (2,2))\n",
    "    \n",
    "    # TODO: Apply a Flatten Layer\n",
    "    # Function Definition from Above:\n",
    "    #   flatten(x_tensor)\n",
    "    x = flatten(x)\n",
    "\n",
    "    # TODO: Apply 1, 2, or 3 Fully Connected Layers\n",
    "    #    Play around with different number of outputs\n",
    "    # Function Definition from Above:\n",
    "    #   fully_conn(x_tensor, num_outputs)\n",
    "    x = fully_conn(x, 512)\n",
    "    x = fully_conn(x, 64)\n",
    "    x = tf.nn.dropout(x, keep_prob)\n",
    "    \n",
    "    # TODO: Apply an Output Layer\n",
    "    #    Set this to the number of classes\n",
    "    # Function Definition from Above:\n",
    "    #   output(x_tensor, num_outputs)\n",
    "    x = output(x, 10)\n",
    "    x = tf.nn.dropout(x, keep_prob)\n",
    "    \n",
    "    # TODO: return output\n",
    "    return x\n",
    "\n",
    "\n",
    "\"\"\"\n",
    "DON'T MODIFY ANYTHING IN THIS CELL THAT IS BELOW THIS LINE\n",
    "\"\"\"\n",
    "\n",
    "##############################\n",
    "## Build the Neural Network ##\n",
    "##############################\n",
    "\n",
    "# Remove previous weights, bias, inputs, etc..\n",
    "tf.reset_default_graph()\n",
    "\n",
    "# Inputs\n",
    "x = neural_net_image_input((32, 32, 3))\n",
    "y = neural_net_label_input(10)\n",
    "keep_prob = neural_net_keep_prob_input()\n",
    "\n",
    "# Model\n",
    "logits = conv_net(x, keep_prob)\n",
    "\n",
    "# Name logits Tensor, so that is can be loaded from disk after training\n",
    "logits = tf.identity(logits, name='logits')\n",
    "\n",
    "# Loss and Optimizer\n",
    "cost = tf.reduce_mean(tf.nn.softmax_cross_entropy_with_logits(logits=logits, labels=y))\n",
    "optimizer = tf.train.AdamOptimizer().minimize(cost)\n",
    "\n",
    "# Accuracy\n",
    "correct_pred = tf.equal(tf.argmax(logits, 1), tf.argmax(y, 1))\n",
    "accuracy = tf.reduce_mean(tf.cast(correct_pred, tf.float32), name='accuracy')\n",
    "\n",
    "tests.test_conv_net(conv_net)"
   ]
  },
  {
   "cell_type": "markdown",
   "metadata": {},
   "source": [
    "## Train the Neural Network\n",
    "### Single Optimization\n",
    "Implement the function `train_neural_network` to do a single optimization.  The optimization should use `optimizer` to optimize in `session` with a `feed_dict` of the following:\n",
    "* `x` for image input\n",
    "* `y` for labels\n",
    "* `keep_prob` for keep probability for dropout\n",
    "\n",
    "This function will be called for each batch, so `tf.global_variables_initializer()` has already been called.\n",
    "\n",
    "Note: Nothing needs to be returned. This function is only optimizing the neural network."
   ]
  },
  {
   "cell_type": "code",
   "execution_count": 14,
   "metadata": {},
   "outputs": [
    {
     "name": "stdout",
     "output_type": "stream",
     "text": [
      "Tests Passed\n"
     ]
    }
   ],
   "source": [
    "def train_neural_network(session, optimizer, keep_probability, feature_batch, label_batch):\n",
    "    \"\"\"\n",
    "    Optimize the session on a batch of images and labels\n",
    "    : session: Current TensorFlow session\n",
    "    : optimizer: TensorFlow optimizer function\n",
    "    : keep_probability: keep probability\n",
    "    : feature_batch: Batch of Numpy image data\n",
    "    : label_batch: Batch of Numpy label data\n",
    "    \"\"\"\n",
    "    # TODO: Implement Function\n",
    "    session.run(optimizer, feed_dict={x: feature_batch, y: label_batch, keep_prob: keep_probability})\n",
    "\n",
    "\"\"\"\n",
    "DON'T MODIFY ANYTHING IN THIS CELL THAT IS BELOW THIS LINE\n",
    "\"\"\"\n",
    "tests.test_train_nn(train_neural_network)"
   ]
  },
  {
   "cell_type": "markdown",
   "metadata": {},
   "source": [
    "### Show Stats\n",
    "Implement the function `print_stats` to print loss and validation accuracy.  Use the global variables `valid_features` and `valid_labels` to calculate validation accuracy.  Use a keep probability of `1.0` to calculate the loss and validation accuracy."
   ]
  },
  {
   "cell_type": "code",
   "execution_count": 15,
   "metadata": {
    "collapsed": true
   },
   "outputs": [],
   "source": [
    "def print_stats(session, feature_batch, label_batch, cost, accuracy):\n",
    "    \"\"\"\n",
    "    Print information about loss and validation accuracy\n",
    "    : session: Current TensorFlow session\n",
    "    : feature_batch: Batch of Numpy image data\n",
    "    : label_batch: Batch of Numpy label data\n",
    "    : cost: TensorFlow cost function\n",
    "    : accuracy: TensorFlow accuracy function\n",
    "    \"\"\"\n",
    "    # TODO: Implement Function\n",
    "    c = session.run(cost, feed_dict={x: feature_batch, y: label_batch, keep_prob:1.0})\n",
    "    ta = session.run(accuracy, feed_dict={x: feature_batch, y: label_batch, keep_prob:1.0})\n",
    "    va = session.run(accuracy, feed_dict={x: valid_features, y: valid_labels, keep_prob:1.0})\n",
    "    print(\"loss: {:.3f}, \".format(c)+ \"training accuracy: {:.3f}%, \".format(ta*100)+\"validation accuracy: {:.3f}%\".format(va*100))"
   ]
  },
  {
   "cell_type": "markdown",
   "metadata": {},
   "source": [
    "### Hyperparameters\n",
    "Tune the following parameters:\n",
    "* Set `epochs` to the number of iterations until the network stops learning or start overfitting\n",
    "* Set `batch_size` to the highest number that your machine has memory for.  Most people set them to common sizes of memory:\n",
    " * 64\n",
    " * 128\n",
    " * 256\n",
    " * ...\n",
    "* Set `keep_probability` to the probability of keeping a node using dropout"
   ]
  },
  {
   "cell_type": "code",
   "execution_count": 23,
   "metadata": {
    "collapsed": true
   },
   "outputs": [],
   "source": [
    "# TODO: Tune Parameters\n",
    "epochs = 40\n",
    "batch_size = 1024\n",
    "keep_probability = 0.8"
   ]
  },
  {
   "cell_type": "markdown",
   "metadata": {},
   "source": [
    "### Train on a Single CIFAR-10 Batch\n",
    "Instead of training the neural network on all the CIFAR-10 batches of data, let's use a single batch. This should save time while you iterate on the model to get a better accuracy.  Once the final validation accuracy is 50% or greater, run the model on all the data in the next section."
   ]
  },
  {
   "cell_type": "code",
   "execution_count": 22,
   "metadata": {},
   "outputs": [
    {
     "name": "stdout",
     "output_type": "stream",
     "text": [
      "Checking the Training on a Single Batch...\n",
      "Epoch  1, CIFAR-10 Batch 1:  loss: 2.172, training accuracy: 24.876%, validation accuracy: 21.640%\n",
      "Epoch  2, CIFAR-10 Batch 1:  loss: 2.001, training accuracy: 30.941%, validation accuracy: 31.960%\n",
      "Epoch  3, CIFAR-10 Batch 1:  loss: 1.874, training accuracy: 37.748%, validation accuracy: 34.900%\n",
      "Epoch  4, CIFAR-10 Batch 1:  loss: 1.890, training accuracy: 33.540%, validation accuracy: 34.800%\n",
      "Epoch  5, CIFAR-10 Batch 1:  loss: 1.765, training accuracy: 39.480%, validation accuracy: 38.460%\n",
      "Epoch  6, CIFAR-10 Batch 1:  loss: 1.687, training accuracy: 41.955%, validation accuracy: 41.900%\n",
      "Epoch  7, CIFAR-10 Batch 1:  loss: 1.626, training accuracy: 44.307%, validation accuracy: 41.700%\n",
      "Epoch  8, CIFAR-10 Batch 1:  loss: 1.596, training accuracy: 44.678%, validation accuracy: 41.860%\n",
      "Epoch  9, CIFAR-10 Batch 1:  loss: 1.557, training accuracy: 45.173%, validation accuracy: 43.460%\n",
      "Epoch 10, CIFAR-10 Batch 1:  loss: 1.516, training accuracy: 46.287%, validation accuracy: 44.200%\n",
      "Epoch 11, CIFAR-10 Batch 1:  loss: 1.456, training accuracy: 49.752%, validation accuracy: 46.540%\n",
      "Epoch 12, CIFAR-10 Batch 1:  loss: 1.448, training accuracy: 50.124%, validation accuracy: 46.660%\n",
      "Epoch 13, CIFAR-10 Batch 1:  loss: 1.398, training accuracy: 51.733%, validation accuracy: 47.940%\n",
      "Epoch 14, CIFAR-10 Batch 1:  loss: 1.346, training accuracy: 52.847%, validation accuracy: 49.400%\n",
      "Epoch 15, CIFAR-10 Batch 1:  loss: 1.368, training accuracy: 51.609%, validation accuracy: 46.640%\n",
      "Epoch 16, CIFAR-10 Batch 1:  loss: 1.351, training accuracy: 51.361%, validation accuracy: 48.060%\n",
      "Epoch 17, CIFAR-10 Batch 1:  loss: 1.284, training accuracy: 56.931%, validation accuracy: 50.440%\n",
      "Epoch 18, CIFAR-10 Batch 1:  loss: 1.263, training accuracy: 56.064%, validation accuracy: 49.180%\n",
      "Epoch 19, CIFAR-10 Batch 1:  loss: 1.231, training accuracy: 58.540%, validation accuracy: 50.460%\n",
      "Epoch 20, CIFAR-10 Batch 1:  loss: 1.195, training accuracy: 60.767%, validation accuracy: 52.200%\n",
      "Epoch 21, CIFAR-10 Batch 1:  loss: 1.183, training accuracy: 58.663%, validation accuracy: 50.840%\n",
      "Epoch 22, CIFAR-10 Batch 1:  loss: 1.148, training accuracy: 61.015%, validation accuracy: 52.600%\n",
      "Epoch 23, CIFAR-10 Batch 1:  loss: 1.125, training accuracy: 63.243%, validation accuracy: 53.460%\n",
      "Epoch 24, CIFAR-10 Batch 1:  loss: 1.071, training accuracy: 63.490%, validation accuracy: 52.920%\n",
      "Epoch 25, CIFAR-10 Batch 1:  loss: 1.099, training accuracy: 64.109%, validation accuracy: 52.300%\n",
      "Epoch 26, CIFAR-10 Batch 1:  loss: 1.102, training accuracy: 62.500%, validation accuracy: 52.160%\n",
      "Epoch 27, CIFAR-10 Batch 1:  loss: 1.089, training accuracy: 63.490%, validation accuracy: 52.600%\n",
      "Epoch 28, CIFAR-10 Batch 1:  loss: 1.035, training accuracy: 66.337%, validation accuracy: 53.620%\n",
      "Epoch 29, CIFAR-10 Batch 1:  loss: 1.005, training accuracy: 66.955%, validation accuracy: 54.240%\n",
      "Epoch 30, CIFAR-10 Batch 1:  loss: 0.996, training accuracy: 67.574%, validation accuracy: 53.460%\n",
      "Epoch 31, CIFAR-10 Batch 1:  loss: 1.028, training accuracy: 67.574%, validation accuracy: 53.520%\n",
      "Epoch 32, CIFAR-10 Batch 1:  loss: 0.928, training accuracy: 69.802%, validation accuracy: 55.480%\n",
      "Epoch 33, CIFAR-10 Batch 1:  loss: 0.883, training accuracy: 72.896%, validation accuracy: 55.040%\n",
      "Epoch 34, CIFAR-10 Batch 1:  loss: 0.868, training accuracy: 73.639%, validation accuracy: 55.620%\n",
      "Epoch 35, CIFAR-10 Batch 1:  loss: 0.864, training accuracy: 72.030%, validation accuracy: 55.040%\n",
      "Epoch 36, CIFAR-10 Batch 1:  loss: 0.817, training accuracy: 73.762%, validation accuracy: 55.380%\n",
      "Epoch 37, CIFAR-10 Batch 1:  loss: 0.808, training accuracy: 75.248%, validation accuracy: 55.780%\n",
      "Epoch 38, CIFAR-10 Batch 1:  loss: 0.762, training accuracy: 78.094%, validation accuracy: 56.780%\n",
      "Epoch 39, CIFAR-10 Batch 1:  loss: 0.769, training accuracy: 74.381%, validation accuracy: 56.060%\n",
      "Epoch 40, CIFAR-10 Batch 1:  loss: 0.748, training accuracy: 77.723%, validation accuracy: 55.700%\n",
      "Epoch 41, CIFAR-10 Batch 1:  loss: 0.702, training accuracy: 77.847%, validation accuracy: 55.960%\n",
      "Epoch 42, CIFAR-10 Batch 1:  loss: 0.677, training accuracy: 79.827%, validation accuracy: 55.960%\n",
      "Epoch 43, CIFAR-10 Batch 1:  loss: 0.646, training accuracy: 79.455%, validation accuracy: 57.320%\n",
      "Epoch 44, CIFAR-10 Batch 1:  loss: 0.620, training accuracy: 82.302%, validation accuracy: 56.560%\n",
      "Epoch 45, CIFAR-10 Batch 1:  loss: 0.610, training accuracy: 83.045%, validation accuracy: 56.460%\n",
      "Epoch 46, CIFAR-10 Batch 1:  loss: 0.582, training accuracy: 82.673%, validation accuracy: 56.980%\n",
      "Epoch 47, CIFAR-10 Batch 1:  loss: 0.544, training accuracy: 85.396%, validation accuracy: 57.000%\n",
      "Epoch 48, CIFAR-10 Batch 1:  loss: 0.604, training accuracy: 82.673%, validation accuracy: 54.620%\n",
      "Epoch 49, CIFAR-10 Batch 1:  loss: 0.524, training accuracy: 83.911%, validation accuracy: 57.760%\n",
      "Epoch 50, CIFAR-10 Batch 1:  loss: 0.588, training accuracy: 81.188%, validation accuracy: 55.120%\n"
     ]
    }
   ],
   "source": [
    "\"\"\"\n",
    "DON'T MODIFY ANYTHING IN THIS CELL\n",
    "\"\"\"\n",
    "print('Checking the Training on a Single Batch...')\n",
    "with tf.Session() as sess:\n",
    "    # Initializing the variables\n",
    "    sess.run(tf.global_variables_initializer())\n",
    "    \n",
    "    # Training cycle\n",
    "    for epoch in range(epochs):\n",
    "        batch_i = 1\n",
    "        for batch_features, batch_labels in helper.load_preprocess_training_batch(batch_i, batch_size):\n",
    "            train_neural_network(sess, optimizer, keep_probability, batch_features, batch_labels)\n",
    "        print('Epoch {:>2}, CIFAR-10 Batch {}:  '.format(epoch + 1, batch_i), end='')\n",
    "        print_stats(sess, batch_features, batch_labels, cost, accuracy)"
   ]
  },
  {
   "cell_type": "markdown",
   "metadata": {},
   "source": [
    "### Fully Train the Model\n",
    "Now that you got a good accuracy with a single CIFAR-10 batch, try it with all five batches."
   ]
  },
  {
   "cell_type": "code",
   "execution_count": 24,
   "metadata": {},
   "outputs": [
    {
     "name": "stdout",
     "output_type": "stream",
     "text": [
      "Training...\n",
      "Epoch  1, CIFAR-10 Batch 1:  loss: 2.209, training accuracy: 18.688%, validation accuracy: 16.980%\n",
      "Epoch  1, CIFAR-10 Batch 2:  loss: 2.122, training accuracy: 22.896%, validation accuracy: 23.660%\n",
      "Epoch  1, CIFAR-10 Batch 3:  loss: 1.908, training accuracy: 36.386%, validation accuracy: 32.260%\n",
      "Epoch  1, CIFAR-10 Batch 4:  loss: 1.864, training accuracy: 34.158%, validation accuracy: 34.340%\n",
      "Epoch  1, CIFAR-10 Batch 5:  loss: 1.815, training accuracy: 34.035%, validation accuracy: 34.700%\n",
      "Epoch  2, CIFAR-10 Batch 1:  loss: 1.758, training accuracy: 38.490%, validation accuracy: 37.120%\n",
      "Epoch  2, CIFAR-10 Batch 2:  loss: 1.758, training accuracy: 39.480%, validation accuracy: 37.960%\n",
      "Epoch  2, CIFAR-10 Batch 3:  loss: 1.617, training accuracy: 44.431%, validation accuracy: 41.240%\n",
      "Epoch  2, CIFAR-10 Batch 4:  loss: 1.624, training accuracy: 40.718%, validation accuracy: 40.540%\n",
      "Epoch  2, CIFAR-10 Batch 5:  loss: 1.611, training accuracy: 42.327%, validation accuracy: 42.460%\n",
      "Epoch  3, CIFAR-10 Batch 1:  loss: 1.572, training accuracy: 45.173%, validation accuracy: 44.340%\n",
      "Epoch  3, CIFAR-10 Batch 2:  loss: 1.564, training accuracy: 46.040%, validation accuracy: 44.400%\n",
      "Epoch  3, CIFAR-10 Batch 3:  loss: 1.502, training accuracy: 48.144%, validation accuracy: 45.040%\n",
      "Epoch  3, CIFAR-10 Batch 4:  loss: 1.496, training accuracy: 48.762%, validation accuracy: 45.380%\n",
      "Epoch  3, CIFAR-10 Batch 5:  loss: 1.492, training accuracy: 46.782%, validation accuracy: 46.240%\n",
      "Epoch  4, CIFAR-10 Batch 1:  loss: 1.446, training accuracy: 48.391%, validation accuracy: 47.160%\n",
      "Epoch  4, CIFAR-10 Batch 2:  loss: 1.587, training accuracy: 45.668%, validation accuracy: 45.120%\n",
      "Epoch  4, CIFAR-10 Batch 3:  loss: 1.425, training accuracy: 50.619%, validation accuracy: 47.840%\n",
      "Epoch  4, CIFAR-10 Batch 4:  loss: 1.427, training accuracy: 49.257%, validation accuracy: 47.460%\n",
      "Epoch  4, CIFAR-10 Batch 5:  loss: 1.436, training accuracy: 48.391%, validation accuracy: 47.520%\n",
      "Epoch  5, CIFAR-10 Batch 1:  loss: 1.401, training accuracy: 50.990%, validation accuracy: 48.340%\n",
      "Epoch  5, CIFAR-10 Batch 2:  loss: 1.426, training accuracy: 51.238%, validation accuracy: 48.400%\n",
      "Epoch  5, CIFAR-10 Batch 3:  loss: 1.325, training accuracy: 53.713%, validation accuracy: 49.700%\n",
      "Epoch  5, CIFAR-10 Batch 4:  loss: 1.305, training accuracy: 53.837%, validation accuracy: 51.500%\n",
      "Epoch  5, CIFAR-10 Batch 5:  loss: 1.327, training accuracy: 53.960%, validation accuracy: 51.740%\n",
      "Epoch  6, CIFAR-10 Batch 1:  loss: 1.314, training accuracy: 55.693%, validation accuracy: 51.060%\n",
      "Epoch  6, CIFAR-10 Batch 2:  loss: 1.349, training accuracy: 54.208%, validation accuracy: 51.220%\n",
      "Epoch  6, CIFAR-10 Batch 3:  loss: 1.269, training accuracy: 56.559%, validation accuracy: 52.780%\n",
      "Epoch  6, CIFAR-10 Batch 4:  loss: 1.268, training accuracy: 56.188%, validation accuracy: 52.260%\n",
      "Epoch  6, CIFAR-10 Batch 5:  loss: 1.268, training accuracy: 55.817%, validation accuracy: 53.600%\n",
      "Epoch  7, CIFAR-10 Batch 1:  loss: 1.249, training accuracy: 56.807%, validation accuracy: 53.740%\n",
      "Epoch  7, CIFAR-10 Batch 2:  loss: 1.256, training accuracy: 57.797%, validation accuracy: 54.520%\n",
      "Epoch  7, CIFAR-10 Batch 3:  loss: 1.211, training accuracy: 56.931%, validation accuracy: 53.780%\n",
      "Epoch  7, CIFAR-10 Batch 4:  loss: 1.219, training accuracy: 57.054%, validation accuracy: 53.460%\n",
      "Epoch  7, CIFAR-10 Batch 5:  loss: 1.225, training accuracy: 57.302%, validation accuracy: 54.920%\n",
      "Epoch  8, CIFAR-10 Batch 1:  loss: 1.201, training accuracy: 59.282%, validation accuracy: 55.820%\n",
      "Epoch  8, CIFAR-10 Batch 2:  loss: 1.209, training accuracy: 58.911%, validation accuracy: 55.200%\n",
      "Epoch  8, CIFAR-10 Batch 3:  loss: 1.141, training accuracy: 59.406%, validation accuracy: 56.400%\n",
      "Epoch  8, CIFAR-10 Batch 4:  loss: 1.126, training accuracy: 60.767%, validation accuracy: 56.520%\n",
      "Epoch  8, CIFAR-10 Batch 5:  loss: 1.145, training accuracy: 61.015%, validation accuracy: 57.260%\n",
      "Epoch  9, CIFAR-10 Batch 1:  loss: 1.188, training accuracy: 59.530%, validation accuracy: 54.520%\n",
      "Epoch  9, CIFAR-10 Batch 2:  loss: 1.170, training accuracy: 57.673%, validation accuracy: 56.640%\n",
      "Epoch  9, CIFAR-10 Batch 3:  loss: 1.096, training accuracy: 62.871%, validation accuracy: 58.080%\n",
      "Epoch  9, CIFAR-10 Batch 4:  loss: 1.076, training accuracy: 62.995%, validation accuracy: 58.360%\n",
      "Epoch  9, CIFAR-10 Batch 5:  loss: 1.072, training accuracy: 61.881%, validation accuracy: 59.060%\n",
      "Epoch 10, CIFAR-10 Batch 1:  loss: 1.062, training accuracy: 64.851%, validation accuracy: 58.620%\n",
      "Epoch 10, CIFAR-10 Batch 2:  loss: 1.059, training accuracy: 63.490%, validation accuracy: 59.420%\n",
      "Epoch 10, CIFAR-10 Batch 3:  loss: 1.031, training accuracy: 64.975%, validation accuracy: 58.700%\n",
      "Epoch 10, CIFAR-10 Batch 4:  loss: 1.083, training accuracy: 62.995%, validation accuracy: 57.800%\n",
      "Epoch 10, CIFAR-10 Batch 5:  loss: 1.077, training accuracy: 62.748%, validation accuracy: 58.660%\n",
      "Epoch 11, CIFAR-10 Batch 1:  loss: 1.046, training accuracy: 65.347%, validation accuracy: 60.120%\n",
      "Epoch 11, CIFAR-10 Batch 2:  loss: 1.034, training accuracy: 62.748%, validation accuracy: 59.000%\n",
      "Epoch 11, CIFAR-10 Batch 3:  loss: 1.007, training accuracy: 65.718%, validation accuracy: 59.740%\n",
      "Epoch 11, CIFAR-10 Batch 4:  loss: 0.999, training accuracy: 64.851%, validation accuracy: 59.380%\n",
      "Epoch 11, CIFAR-10 Batch 5:  loss: 0.990, training accuracy: 67.327%, validation accuracy: 61.160%\n",
      "Epoch 12, CIFAR-10 Batch 1:  loss: 0.976, training accuracy: 66.708%, validation accuracy: 61.420%\n",
      "Epoch 12, CIFAR-10 Batch 2:  loss: 1.024, training accuracy: 65.594%, validation accuracy: 60.620%\n",
      "Epoch 12, CIFAR-10 Batch 3:  loss: 0.970, training accuracy: 66.584%, validation accuracy: 61.480%\n",
      "Epoch 12, CIFAR-10 Batch 4:  loss: 0.966, training accuracy: 66.955%, validation accuracy: 61.400%\n",
      "Epoch 12, CIFAR-10 Batch 5:  loss: 0.973, training accuracy: 67.698%, validation accuracy: 61.420%\n",
      "Epoch 13, CIFAR-10 Batch 1:  loss: 0.964, training accuracy: 68.317%, validation accuracy: 61.400%\n",
      "Epoch 13, CIFAR-10 Batch 2:  loss: 0.957, training accuracy: 67.327%, validation accuracy: 61.880%\n",
      "Epoch 13, CIFAR-10 Batch 3:  loss: 0.926, training accuracy: 67.946%, validation accuracy: 62.560%\n",
      "Epoch 13, CIFAR-10 Batch 4:  loss: 0.912, training accuracy: 70.792%, validation accuracy: 62.380%\n",
      "Epoch 13, CIFAR-10 Batch 5:  loss: 0.906, training accuracy: 69.554%, validation accuracy: 62.880%\n",
      "Epoch 14, CIFAR-10 Batch 1:  loss: 0.897, training accuracy: 71.782%, validation accuracy: 63.720%\n",
      "Epoch 14, CIFAR-10 Batch 2:  loss: 0.913, training accuracy: 68.688%, validation accuracy: 63.100%\n",
      "Epoch 14, CIFAR-10 Batch 3:  loss: 0.879, training accuracy: 70.421%, validation accuracy: 63.040%\n",
      "Epoch 14, CIFAR-10 Batch 4:  loss: 0.878, training accuracy: 70.545%, validation accuracy: 63.080%\n",
      "Epoch 14, CIFAR-10 Batch 5:  loss: 0.887, training accuracy: 70.916%, validation accuracy: 63.300%\n",
      "Epoch 15, CIFAR-10 Batch 1:  loss: 0.844, training accuracy: 72.153%, validation accuracy: 63.780%\n",
      "Epoch 15, CIFAR-10 Batch 2:  loss: 0.907, training accuracy: 70.668%, validation accuracy: 62.640%\n",
      "Epoch 15, CIFAR-10 Batch 3:  loss: 0.836, training accuracy: 70.792%, validation accuracy: 63.600%\n",
      "Epoch 15, CIFAR-10 Batch 4:  loss: 0.850, training accuracy: 71.411%, validation accuracy: 63.860%\n",
      "Epoch 15, CIFAR-10 Batch 5:  loss: 0.824, training accuracy: 72.401%, validation accuracy: 64.760%\n",
      "Epoch 16, CIFAR-10 Batch 1:  loss: 0.819, training accuracy: 73.515%, validation accuracy: 64.380%\n",
      "Epoch 16, CIFAR-10 Batch 2:  loss: 0.873, training accuracy: 72.649%, validation accuracy: 63.140%\n",
      "Epoch 16, CIFAR-10 Batch 3:  loss: 0.787, training accuracy: 73.886%, validation accuracy: 64.860%\n",
      "Epoch 16, CIFAR-10 Batch 4:  loss: 0.802, training accuracy: 72.030%, validation accuracy: 65.400%\n",
      "Epoch 16, CIFAR-10 Batch 5:  loss: 0.784, training accuracy: 75.000%, validation accuracy: 65.900%\n",
      "Epoch 17, CIFAR-10 Batch 1:  loss: 0.799, training accuracy: 73.886%, validation accuracy: 64.340%\n",
      "Epoch 17, CIFAR-10 Batch 2:  loss: 0.868, training accuracy: 70.050%, validation accuracy: 62.240%\n",
      "Epoch 17, CIFAR-10 Batch 3:  loss: 0.753, training accuracy: 74.257%, validation accuracy: 66.440%\n"
     ]
    },
    {
     "name": "stdout",
     "output_type": "stream",
     "text": [
      "Epoch 17, CIFAR-10 Batch 4:  loss: 0.786, training accuracy: 73.639%, validation accuracy: 66.120%\n",
      "Epoch 17, CIFAR-10 Batch 5:  loss: 0.744, training accuracy: 74.629%, validation accuracy: 65.840%\n",
      "Epoch 18, CIFAR-10 Batch 1:  loss: 0.750, training accuracy: 75.124%, validation accuracy: 65.680%\n",
      "Epoch 18, CIFAR-10 Batch 2:  loss: 0.783, training accuracy: 74.752%, validation accuracy: 65.580%\n",
      "Epoch 18, CIFAR-10 Batch 3:  loss: 0.714, training accuracy: 76.485%, validation accuracy: 66.540%\n",
      "Epoch 18, CIFAR-10 Batch 4:  loss: 0.731, training accuracy: 76.114%, validation accuracy: 66.220%\n",
      "Epoch 18, CIFAR-10 Batch 5:  loss: 0.767, training accuracy: 74.629%, validation accuracy: 64.140%\n",
      "Epoch 19, CIFAR-10 Batch 1:  loss: 0.730, training accuracy: 76.609%, validation accuracy: 65.300%\n",
      "Epoch 19, CIFAR-10 Batch 2:  loss: 0.764, training accuracy: 74.257%, validation accuracy: 65.060%\n",
      "Epoch 19, CIFAR-10 Batch 3:  loss: 0.692, training accuracy: 77.104%, validation accuracy: 66.040%\n",
      "Epoch 19, CIFAR-10 Batch 4:  loss: 0.719, training accuracy: 76.114%, validation accuracy: 66.140%\n",
      "Epoch 19, CIFAR-10 Batch 5:  loss: 0.727, training accuracy: 75.248%, validation accuracy: 65.420%\n",
      "Epoch 20, CIFAR-10 Batch 1:  loss: 0.695, training accuracy: 77.228%, validation accuracy: 65.440%\n",
      "Epoch 20, CIFAR-10 Batch 2:  loss: 0.757, training accuracy: 73.886%, validation accuracy: 65.620%\n",
      "Epoch 20, CIFAR-10 Batch 3:  loss: 0.674, training accuracy: 75.495%, validation accuracy: 65.740%\n",
      "Epoch 20, CIFAR-10 Batch 4:  loss: 0.671, training accuracy: 77.723%, validation accuracy: 67.520%\n",
      "Epoch 20, CIFAR-10 Batch 5:  loss: 0.681, training accuracy: 75.866%, validation accuracy: 66.220%\n",
      "Epoch 21, CIFAR-10 Batch 1:  loss: 0.707, training accuracy: 76.980%, validation accuracy: 64.860%\n",
      "Epoch 21, CIFAR-10 Batch 2:  loss: 0.697, training accuracy: 76.485%, validation accuracy: 66.600%\n",
      "Epoch 21, CIFAR-10 Batch 3:  loss: 0.661, training accuracy: 78.837%, validation accuracy: 66.780%\n",
      "Epoch 21, CIFAR-10 Batch 4:  loss: 0.664, training accuracy: 78.837%, validation accuracy: 68.020%\n",
      "Epoch 21, CIFAR-10 Batch 5:  loss: 0.631, training accuracy: 78.589%, validation accuracy: 67.400%\n",
      "Epoch 22, CIFAR-10 Batch 1:  loss: 0.641, training accuracy: 77.847%, validation accuracy: 66.400%\n",
      "Epoch 22, CIFAR-10 Batch 2:  loss: 0.681, training accuracy: 76.238%, validation accuracy: 66.240%\n",
      "Epoch 22, CIFAR-10 Batch 3:  loss: 0.607, training accuracy: 80.446%, validation accuracy: 68.500%\n",
      "Epoch 22, CIFAR-10 Batch 4:  loss: 0.613, training accuracy: 80.198%, validation accuracy: 67.780%\n",
      "Epoch 22, CIFAR-10 Batch 5:  loss: 0.599, training accuracy: 80.322%, validation accuracy: 67.440%\n",
      "Epoch 23, CIFAR-10 Batch 1:  loss: 0.617, training accuracy: 78.589%, validation accuracy: 66.640%\n",
      "Epoch 23, CIFAR-10 Batch 2:  loss: 0.669, training accuracy: 76.238%, validation accuracy: 67.000%\n",
      "Epoch 23, CIFAR-10 Batch 3:  loss: 0.635, training accuracy: 79.084%, validation accuracy: 66.480%\n",
      "Epoch 23, CIFAR-10 Batch 4:  loss: 0.583, training accuracy: 80.941%, validation accuracy: 67.680%\n",
      "Epoch 23, CIFAR-10 Batch 5:  loss: 0.572, training accuracy: 80.322%, validation accuracy: 67.580%\n",
      "Epoch 24, CIFAR-10 Batch 1:  loss: 0.623, training accuracy: 78.218%, validation accuracy: 65.980%\n",
      "Epoch 24, CIFAR-10 Batch 2:  loss: 0.642, training accuracy: 77.104%, validation accuracy: 67.040%\n",
      "Epoch 24, CIFAR-10 Batch 3:  loss: 0.586, training accuracy: 80.693%, validation accuracy: 67.920%\n",
      "Epoch 24, CIFAR-10 Batch 4:  loss: 0.599, training accuracy: 81.312%, validation accuracy: 66.840%\n",
      "Epoch 24, CIFAR-10 Batch 5:  loss: 0.614, training accuracy: 78.589%, validation accuracy: 65.640%\n",
      "Epoch 25, CIFAR-10 Batch 1:  loss: 0.612, training accuracy: 78.713%, validation accuracy: 67.380%\n",
      "Epoch 25, CIFAR-10 Batch 2:  loss: 0.641, training accuracy: 77.847%, validation accuracy: 65.860%\n",
      "Epoch 25, CIFAR-10 Batch 3:  loss: 0.567, training accuracy: 81.931%, validation accuracy: 67.660%\n",
      "Epoch 25, CIFAR-10 Batch 4:  loss: 0.560, training accuracy: 81.931%, validation accuracy: 67.820%\n",
      "Epoch 25, CIFAR-10 Batch 5:  loss: 0.532, training accuracy: 81.683%, validation accuracy: 67.760%\n",
      "Epoch 26, CIFAR-10 Batch 1:  loss: 0.552, training accuracy: 81.312%, validation accuracy: 67.940%\n",
      "Epoch 26, CIFAR-10 Batch 2:  loss: 0.561, training accuracy: 80.941%, validation accuracy: 67.460%\n",
      "Epoch 26, CIFAR-10 Batch 3:  loss: 0.554, training accuracy: 81.436%, validation accuracy: 66.100%\n",
      "Epoch 26, CIFAR-10 Batch 4:  loss: 0.499, training accuracy: 84.035%, validation accuracy: 67.640%\n",
      "Epoch 26, CIFAR-10 Batch 5:  loss: 0.500, training accuracy: 83.045%, validation accuracy: 67.820%\n",
      "Epoch 27, CIFAR-10 Batch 1:  loss: 0.483, training accuracy: 84.530%, validation accuracy: 68.240%\n",
      "Epoch 27, CIFAR-10 Batch 2:  loss: 0.507, training accuracy: 83.787%, validation accuracy: 68.360%\n",
      "Epoch 27, CIFAR-10 Batch 3:  loss: 0.501, training accuracy: 83.663%, validation accuracy: 67.660%\n",
      "Epoch 27, CIFAR-10 Batch 4:  loss: 0.472, training accuracy: 85.025%, validation accuracy: 67.620%\n",
      "Epoch 27, CIFAR-10 Batch 5:  loss: 0.459, training accuracy: 86.386%, validation accuracy: 68.440%\n",
      "Epoch 28, CIFAR-10 Batch 1:  loss: 0.490, training accuracy: 83.045%, validation accuracy: 68.120%\n",
      "Epoch 28, CIFAR-10 Batch 2:  loss: 0.503, training accuracy: 82.550%, validation accuracy: 69.460%\n",
      "Epoch 28, CIFAR-10 Batch 3:  loss: 0.467, training accuracy: 84.282%, validation accuracy: 67.980%\n",
      "Epoch 28, CIFAR-10 Batch 4:  loss: 0.466, training accuracy: 86.386%, validation accuracy: 67.460%\n",
      "Epoch 28, CIFAR-10 Batch 5:  loss: 0.467, training accuracy: 85.767%, validation accuracy: 67.460%\n",
      "Epoch 29, CIFAR-10 Batch 1:  loss: 0.449, training accuracy: 84.406%, validation accuracy: 68.540%\n",
      "Epoch 29, CIFAR-10 Batch 2:  loss: 0.468, training accuracy: 84.653%, validation accuracy: 69.640%\n",
      "Epoch 29, CIFAR-10 Batch 3:  loss: 0.424, training accuracy: 86.262%, validation accuracy: 68.740%\n",
      "Epoch 29, CIFAR-10 Batch 4:  loss: 0.423, training accuracy: 87.005%, validation accuracy: 68.580%\n",
      "Epoch 29, CIFAR-10 Batch 5:  loss: 0.380, training accuracy: 88.614%, validation accuracy: 69.580%\n",
      "Epoch 30, CIFAR-10 Batch 1:  loss: 0.441, training accuracy: 84.530%, validation accuracy: 68.240%\n",
      "Epoch 30, CIFAR-10 Batch 2:  loss: 0.467, training accuracy: 84.406%, validation accuracy: 69.060%\n",
      "Epoch 30, CIFAR-10 Batch 3:  loss: 0.397, training accuracy: 86.634%, validation accuracy: 69.400%\n",
      "Epoch 30, CIFAR-10 Batch 4:  loss: 0.380, training accuracy: 88.243%, validation accuracy: 68.880%\n",
      "Epoch 30, CIFAR-10 Batch 5:  loss: 0.383, training accuracy: 88.119%, validation accuracy: 68.100%\n",
      "Epoch 31, CIFAR-10 Batch 1:  loss: 0.433, training accuracy: 84.901%, validation accuracy: 67.860%\n",
      "Epoch 31, CIFAR-10 Batch 2:  loss: 0.468, training accuracy: 83.911%, validation accuracy: 68.360%\n",
      "Epoch 31, CIFAR-10 Batch 3:  loss: 0.384, training accuracy: 87.500%, validation accuracy: 69.360%\n",
      "Epoch 31, CIFAR-10 Batch 4:  loss: 0.377, training accuracy: 89.233%, validation accuracy: 68.060%\n",
      "Epoch 31, CIFAR-10 Batch 5:  loss: 0.349, training accuracy: 89.851%, validation accuracy: 68.260%\n",
      "Epoch 32, CIFAR-10 Batch 1:  loss: 0.425, training accuracy: 85.149%, validation accuracy: 68.300%\n",
      "Epoch 32, CIFAR-10 Batch 2:  loss: 0.400, training accuracy: 85.767%, validation accuracy: 69.340%\n",
      "Epoch 32, CIFAR-10 Batch 3:  loss: 0.379, training accuracy: 87.995%, validation accuracy: 69.020%\n",
      "Epoch 32, CIFAR-10 Batch 4:  loss: 0.353, training accuracy: 89.851%, validation accuracy: 68.700%\n",
      "Epoch 32, CIFAR-10 Batch 5:  loss: 0.384, training accuracy: 87.500%, validation accuracy: 67.460%\n",
      "Epoch 33, CIFAR-10 Batch 1:  loss: 0.402, training accuracy: 85.644%, validation accuracy: 67.860%\n",
      "Epoch 33, CIFAR-10 Batch 2:  loss: 0.383, training accuracy: 87.624%, validation accuracy: 69.740%\n",
      "Epoch 33, CIFAR-10 Batch 3:  loss: 0.343, training accuracy: 89.604%, validation accuracy: 68.480%\n",
      "Epoch 33, CIFAR-10 Batch 4:  loss: 0.353, training accuracy: 88.861%, validation accuracy: 67.780%\n",
      "Epoch 33, CIFAR-10 Batch 5:  loss: 0.272, training accuracy: 92.698%, validation accuracy: 69.640%\n",
      "Epoch 34, CIFAR-10 Batch 1:  loss: 0.389, training accuracy: 86.757%, validation accuracy: 66.920%\n"
     ]
    },
    {
     "name": "stdout",
     "output_type": "stream",
     "text": [
      "Epoch 34, CIFAR-10 Batch 2:  loss: 0.372, training accuracy: 87.624%, validation accuracy: 68.720%\n",
      "Epoch 34, CIFAR-10 Batch 3:  loss: 0.307, training accuracy: 90.842%, validation accuracy: 69.200%\n",
      "Epoch 34, CIFAR-10 Batch 4:  loss: 0.332, training accuracy: 90.965%, validation accuracy: 67.020%\n",
      "Epoch 34, CIFAR-10 Batch 5:  loss: 0.280, training accuracy: 91.708%, validation accuracy: 68.660%\n",
      "Epoch 35, CIFAR-10 Batch 1:  loss: 0.307, training accuracy: 90.718%, validation accuracy: 69.020%\n",
      "Epoch 35, CIFAR-10 Batch 2:  loss: 0.331, training accuracy: 88.490%, validation accuracy: 67.540%\n",
      "Epoch 35, CIFAR-10 Batch 3:  loss: 0.298, training accuracy: 90.842%, validation accuracy: 69.580%\n",
      "Epoch 35, CIFAR-10 Batch 4:  loss: 0.294, training accuracy: 91.708%, validation accuracy: 69.020%\n",
      "Epoch 35, CIFAR-10 Batch 5:  loss: 0.311, training accuracy: 88.738%, validation accuracy: 67.800%\n",
      "Epoch 36, CIFAR-10 Batch 1:  loss: 0.319, training accuracy: 89.604%, validation accuracy: 68.960%\n",
      "Epoch 36, CIFAR-10 Batch 2:  loss: 0.318, training accuracy: 89.975%, validation accuracy: 68.560%\n",
      "Epoch 36, CIFAR-10 Batch 3:  loss: 0.281, training accuracy: 91.955%, validation accuracy: 70.260%\n",
      "Epoch 36, CIFAR-10 Batch 4:  loss: 0.270, training accuracy: 93.069%, validation accuracy: 69.000%\n",
      "Epoch 36, CIFAR-10 Batch 5:  loss: 0.295, training accuracy: 89.728%, validation accuracy: 67.760%\n",
      "Epoch 37, CIFAR-10 Batch 1:  loss: 0.289, training accuracy: 90.223%, validation accuracy: 68.680%\n",
      "Epoch 37, CIFAR-10 Batch 2:  loss: 0.296, training accuracy: 91.213%, validation accuracy: 69.040%\n",
      "Epoch 37, CIFAR-10 Batch 3:  loss: 0.308, training accuracy: 90.594%, validation accuracy: 68.620%\n",
      "Epoch 37, CIFAR-10 Batch 4:  loss: 0.285, training accuracy: 92.079%, validation accuracy: 68.000%\n",
      "Epoch 37, CIFAR-10 Batch 5:  loss: 0.286, training accuracy: 91.584%, validation accuracy: 68.060%\n",
      "Epoch 38, CIFAR-10 Batch 1:  loss: 0.274, training accuracy: 90.965%, validation accuracy: 68.460%\n",
      "Epoch 38, CIFAR-10 Batch 2:  loss: 0.308, training accuracy: 89.975%, validation accuracy: 67.720%\n",
      "Epoch 38, CIFAR-10 Batch 3:  loss: 0.271, training accuracy: 90.965%, validation accuracy: 68.920%\n",
      "Epoch 38, CIFAR-10 Batch 4:  loss: 0.267, training accuracy: 92.203%, validation accuracy: 69.740%\n",
      "Epoch 38, CIFAR-10 Batch 5:  loss: 0.280, training accuracy: 91.584%, validation accuracy: 67.840%\n",
      "Epoch 39, CIFAR-10 Batch 1:  loss: 0.295, training accuracy: 89.851%, validation accuracy: 68.000%\n",
      "Epoch 39, CIFAR-10 Batch 2:  loss: 0.297, training accuracy: 92.203%, validation accuracy: 68.520%\n",
      "Epoch 39, CIFAR-10 Batch 3:  loss: 0.259, training accuracy: 91.708%, validation accuracy: 69.040%\n",
      "Epoch 39, CIFAR-10 Batch 4:  loss: 0.276, training accuracy: 90.842%, validation accuracy: 68.820%\n",
      "Epoch 39, CIFAR-10 Batch 5:  loss: 0.239, training accuracy: 93.936%, validation accuracy: 69.340%\n",
      "Epoch 40, CIFAR-10 Batch 1:  loss: 0.270, training accuracy: 90.842%, validation accuracy: 66.580%\n",
      "Epoch 40, CIFAR-10 Batch 2:  loss: 0.307, training accuracy: 90.965%, validation accuracy: 68.300%\n",
      "Epoch 40, CIFAR-10 Batch 3:  loss: 0.258, training accuracy: 90.965%, validation accuracy: 68.860%\n",
      "Epoch 40, CIFAR-10 Batch 4:  loss: 0.269, training accuracy: 90.965%, validation accuracy: 67.740%\n",
      "Epoch 40, CIFAR-10 Batch 5:  loss: 0.220, training accuracy: 94.678%, validation accuracy: 69.180%\n"
     ]
    }
   ],
   "source": [
    "\"\"\"\n",
    "DON'T MODIFY ANYTHING IN THIS CELL\n",
    "\"\"\"\n",
    "save_model_path = './image_classification'\n",
    "\n",
    "print('Training...')\n",
    "with tf.Session() as sess:\n",
    "    # Initializing the variables\n",
    "    sess.run(tf.global_variables_initializer())\n",
    "    \n",
    "    # Training cycle\n",
    "    for epoch in range(epochs):\n",
    "        # Loop over all batches\n",
    "        n_batches = 5\n",
    "        for batch_i in range(1, n_batches + 1):\n",
    "            for batch_features, batch_labels in helper.load_preprocess_training_batch(batch_i, batch_size):\n",
    "                train_neural_network(sess, optimizer, keep_probability, batch_features, batch_labels)\n",
    "            print('Epoch {:>2}, CIFAR-10 Batch {}:  '.format(epoch + 1, batch_i), end='')\n",
    "            print_stats(sess, batch_features, batch_labels, cost, accuracy)\n",
    "            \n",
    "    # Save Model\n",
    "    saver = tf.train.Saver()\n",
    "    save_path = saver.save(sess, save_model_path)"
   ]
  },
  {
   "cell_type": "markdown",
   "metadata": {},
   "source": [
    "# Checkpoint\n",
    "The model has been saved to disk.\n",
    "## Test Model\n",
    "Test your model against the test dataset.  This will be your final accuracy. You should have an accuracy greater than 50%. If you don't, keep tweaking the model architecture and parameters."
   ]
  },
  {
   "cell_type": "code",
   "execution_count": 25,
   "metadata": {},
   "outputs": [
    {
     "name": "stdout",
     "output_type": "stream",
     "text": [
      "INFO:tensorflow:Restoring parameters from ./image_classification\n",
      "Testing Accuracy: 0.6837312638759613\n",
      "\n"
     ]
    },
    {
     "data": {
      "image/png": "[encoded data removed]",
      "text/plain": [
       "<matplotlib.figure.Figure at 0x7eff71f2f048>"
      ]
     },
     "metadata": {
      "image/png": {
       "height": 319,
       "width": 355
      }
     },
     "output_type": "display_data"
    }
   ],
   "source": [
    "\"\"\"\n",
    "DON'T MODIFY ANYTHING IN THIS CELL\n",
    "\"\"\"\n",
    "%matplotlib inline\n",
    "%config InlineBackend.figure_format = 'retina'\n",
    "\n",
    "import tensorflow as tf\n",
    "import pickle\n",
    "import helper\n",
    "import random\n",
    "\n",
    "# Set batch size if not already set\n",
    "try:\n",
    "    if batch_size:\n",
    "        pass\n",
    "except NameError:\n",
    "    batch_size = 64\n",
    "\n",
    "save_model_path = './image_classification'\n",
    "n_samples = 4\n",
    "top_n_predictions = 3\n",
    "\n",
    "def test_model():\n",
    "    \"\"\"\n",
    "    Test the saved model against the test dataset\n",
    "    \"\"\"\n",
    "\n",
    "    test_features, test_labels = pickle.load(open('preprocess_test.p', mode='rb'))\n",
    "    loaded_graph = tf.Graph()\n",
    "\n",
    "    with tf.Session(graph=loaded_graph) as sess:\n",
    "        # Load model\n",
    "        loader = tf.train.import_meta_graph(save_model_path + '.meta')\n",
    "        loader.restore(sess, save_model_path)\n",
    "\n",
    "        # Get Tensors from loaded model\n",
    "        loaded_x = loaded_graph.get_tensor_by_name('x:0')\n",
    "        loaded_y = loaded_graph.get_tensor_by_name('y:0')\n",
    "        loaded_keep_prob = loaded_graph.get_tensor_by_name('keep_prob:0')\n",
    "        loaded_logits = loaded_graph.get_tensor_by_name('logits:0')\n",
    "        loaded_acc = loaded_graph.get_tensor_by_name('accuracy:0')\n",
    "        \n",
    "        # Get accuracy in batches for memory limitations\n",
    "        test_batch_acc_total = 0\n",
    "        test_batch_count = 0\n",
    "        \n",
    "        for test_feature_batch, test_label_batch in helper.batch_features_labels(test_features, test_labels, batch_size):\n",
    "            test_batch_acc_total += sess.run(\n",
    "                loaded_acc,\n",
    "                feed_dict={loaded_x: test_feature_batch, loaded_y: test_label_batch, loaded_keep_prob: 1.0})\n",
    "            test_batch_count += 1\n",
    "\n",
    "        print('Testing Accuracy: {}\\n'.format(test_batch_acc_total/test_batch_count))\n",
    "\n",
    "        # Print Random Samples\n",
    "        random_test_features, random_test_labels = tuple(zip(*random.sample(list(zip(test_features, test_labels)), n_samples)))\n",
    "        random_test_predictions = sess.run(\n",
    "            tf.nn.top_k(tf.nn.softmax(loaded_logits), top_n_predictions),\n",
    "            feed_dict={loaded_x: random_test_features, loaded_y: random_test_labels, loaded_keep_prob: 1.0})\n",
    "        helper.display_image_predictions(random_test_features, random_test_labels, random_test_predictions)\n",
    "\n",
    "\n",
    "test_model()"
   ]
  },
  {
   "cell_type": "markdown",
   "metadata": {},
   "source": [
    "## Why 50-80% Accuracy?\n",
    "You might be wondering why you can't get an accuracy any higher. First things first, 50% isn't bad for a simple CNN.  Pure guessing would get you 10% accuracy. However, you might notice people are getting scores [well above 80%](http://rodrigob.github.io/are_we_there_yet/build/classification_datasets_results.html#43494641522d3130).  That's because we haven't taught you all there is to know about neural networks. We still need to cover a few more techniques.\n",
    "## Submitting This Project\n",
    "When submitting this project, make sure to run all the cells before saving the notebook.  Save the notebook file as \"dlnd_image_classification.ipynb\" and save it as a HTML file under \"File\" -> \"Download as\".  Include the \"helper.py\" and \"problem_unittests.py\" files in your submission."
   ]
  }
 ],
 "metadata": {
  "kernelspec": {
   "display_name": "Python 3",
   "language": "python",
   "name": "python3"
  },
  "language_info": {
   "codemirror_mode": {
    "name": "ipython",
    "version": 3
   },
   "file_extension": ".py",
   "mimetype": "text/x-python",
   "name": "python",
   "nbconvert_exporter": "python",
   "pygments_lexer": "ipython3",
   "version": "3.5.3"
  }
 },
 "nbformat": 4,
 "nbformat_minor": 1
}
